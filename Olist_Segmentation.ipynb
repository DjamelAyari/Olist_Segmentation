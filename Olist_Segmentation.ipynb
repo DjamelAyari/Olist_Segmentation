{
 "cells": [
  {
   "cell_type": "markdown",
   "id": "d767c976",
   "metadata": {},
   "source": [
    "# <center>Olist Segmentation</center>"
   ]
  },
  {
   "cell_type": "markdown",
   "id": "fca0127c",
   "metadata": {},
   "source": [
    "## <center>Librairies Importations</center>"
   ]
  },
  {
   "cell_type": "code",
   "execution_count": 1,
   "id": "ca659481",
   "metadata": {},
   "outputs": [],
   "source": [
    "import modin.pandas as pd\n",
    "import numpy as np\n",
    "import matplotlib.pyplot as plt\n",
    "import seaborn as sns"
   ]
  },
  {
   "cell_type": "markdown",
   "id": "6d279e26",
   "metadata": {},
   "source": [
    "## <center>DataSets Importations</center>"
   ]
  },
  {
   "cell_type": "code",
   "execution_count": 2,
   "id": "0016e721",
   "metadata": {},
   "outputs": [
    {
     "name": "stderr",
     "output_type": "stream",
     "text": [
      "UserWarning: Dask execution environment not yet initialized. Initializing...\n",
      "To remove this warning, run the following python code before doing dataframe operations:\n",
      "\n",
      "    from distributed import Client\n",
      "\n",
      "    client = Client()\n",
      "\n",
      "UserWarning: `read_*` implementation has mismatches with pandas:\n",
      "Data types of partitions are different! Please refer to the troubleshooting section of the Modin documentation to fix this issue.\n"
     ]
    }
   ],
   "source": [
    "customers = pd.read_csv(\"olist_customers_dataset.csv\")\n",
    "geolocation = pd.read_csv(\"olist_geolocation_dataset.csv\")\n",
    "items = pd.read_csv(\"olist_order_items_dataset.csv\")\n",
    "payments = pd.read_csv(\"olist_order_payments_dataset.csv\")\n",
    "reviews = pd.read_csv(\"olist_order_reviews_dataset.csv\")\n",
    "orders = pd.read_csv(\"olist_orders_dataset.csv\")\n",
    "products = pd.read_csv(\"olist_products_dataset.csv\")\n",
    "sellers = pd.read_csv(\"olist_sellers_dataset.csv\")\n",
    "category = pd.read_csv(\"product_category_name_translation.csv\")"
   ]
  },
  {
   "cell_type": "code",
   "execution_count": 3,
   "id": "b87b564c",
   "metadata": {},
   "outputs": [],
   "source": [
    "#from IPython.display import Image\n",
    "#Image(url=\"databases.png\", width=800, height=200)"
   ]
  },
  {
   "cell_type": "code",
   "execution_count": 4,
   "id": "9abfaae4",
   "metadata": {},
   "outputs": [
    {
     "data": {
      "text/plain": [
       "Index(['product_id', 'product_category_name', 'product_name_lenght',\n",
       "       'product_description_lenght', 'product_photos_qty', 'product_weight_g',\n",
       "       'product_length_cm', 'product_height_cm', 'product_width_cm'],\n",
       "      dtype='object')"
      ]
     },
     "execution_count": 4,
     "metadata": {},
     "output_type": "execute_result"
    }
   ],
   "source": [
    "products.columns"
   ]
  },
  {
   "cell_type": "markdown",
   "id": "2c18db5f",
   "metadata": {},
   "source": [
    "    int8 can store integers from -128 to 127.\n",
    "\n",
    "    int16 can store integers from -32768 to 32767.\n",
    "\n",
    "    int64 can store integers from -9223372036854775808 to 9223372036854775807."
   ]
  },
  {
   "cell_type": "code",
   "execution_count": 5,
   "id": "16eb4dba",
   "metadata": {},
   "outputs": [],
   "source": [
    "#category.dtypes"
   ]
  },
  {
   "cell_type": "code",
   "execution_count": 6,
   "id": "f6aaa526",
   "metadata": {},
   "outputs": [],
   "source": [
    "#category.describe().round(2)"
   ]
  },
  {
   "cell_type": "code",
   "execution_count": 7,
   "id": "1421e3a4",
   "metadata": {
    "scrolled": true
   },
   "outputs": [
    {
     "name": "stdout",
     "output_type": "stream",
     "text": [
      "float64\n",
      "8001304\n",
      "Float32\n",
      "5000815\n",
      "\n",
      "\n",
      "float64\n",
      "8001304\n",
      "Float32\n",
      "5000815\n",
      "\n",
      "\n",
      "int64\n",
      "901200\n",
      "Int8\n",
      "225300\n",
      "\n",
      "\n",
      "float64\n",
      "901200\n",
      "Float32\n",
      "563250\n",
      "\n",
      "\n",
      "float64\n",
      "901200\n",
      "Float32\n",
      "563250\n",
      "\n",
      "\n",
      "int64\n",
      "831088\n",
      "Int8\n",
      "207772\n",
      "\n",
      "\n",
      "int64\n",
      "831088\n",
      "Int8\n",
      "207772\n",
      "\n",
      "\n",
      "float64\n",
      "831088\n",
      "Float32\n",
      "519430\n",
      "\n",
      "\n",
      "int64\n",
      "793792\n",
      "Int8\n",
      "198448\n",
      "\n",
      "\n",
      "float64\n",
      "263608\n",
      "Float32\n",
      "164755\n",
      "\n",
      "\n",
      "float64\n",
      "263608\n",
      "Float32\n",
      "164755\n",
      "\n",
      "\n",
      "float64\n",
      "263608\n",
      "Float32\n",
      "164755\n",
      "\n",
      "\n",
      "float64\n",
      "263608\n",
      "Float32\n",
      "164755\n",
      "\n",
      "\n",
      "float64\n",
      "263608\n",
      "Float32\n",
      "164755\n",
      "\n",
      "\n",
      "float64\n",
      "263608\n",
      "Float32\n",
      "164755\n",
      "\n",
      "\n",
      "float64\n",
      "263608\n",
      "Float32\n",
      "164755\n"
     ]
    }
   ],
   "source": [
    "print(geolocation[\"geolocation_lat\"].dtypes)\n",
    "print(geolocation[\"geolocation_lat\"].memory_usage(index=False, deep=True))\n",
    "geolocation[\"geolocation_lat\"] = geolocation[\"geolocation_lat\"].astype(pd.Float32Dtype())\n",
    "print(geolocation[\"geolocation_lat\"].dtypes)\n",
    "print(geolocation[\"geolocation_lat\"].memory_usage(index=False, deep=True))\n",
    "\n",
    "print(\"\\n\")\n",
    "\n",
    "print(geolocation[\"geolocation_lng\"].dtypes)\n",
    "print(geolocation[\"geolocation_lng\"].memory_usage(index=False, deep=True))\n",
    "geolocation[\"geolocation_lng\"] = geolocation[\"geolocation_lng\"].astype(pd.Float32Dtype())\n",
    "print(geolocation[\"geolocation_lng\"].dtypes)\n",
    "print(geolocation[\"geolocation_lng\"].memory_usage(index=False, deep=True))\n",
    "\n",
    "print(\"\\n\")\n",
    "\n",
    "print(items[\"order_item_id\"].dtypes)\n",
    "print(items[\"order_item_id\"].memory_usage(index=False, deep=True))\n",
    "items[\"order_item_id\"] = items[\"order_item_id\"].astype(pd.Int8Dtype())\n",
    "print(items[\"order_item_id\"].dtypes)\n",
    "print(items[\"order_item_id\"].memory_usage(index=False, deep=True))\n",
    "\n",
    "print(\"\\n\")\n",
    "\n",
    "print(items[\"price\"].dtypes)\n",
    "print(items[\"price\"].memory_usage(index=False, deep=True))\n",
    "items[\"price\"] = items[\"price\"].astype(pd.Float32Dtype())\n",
    "print(items[\"price\"].dtypes)\n",
    "print(items[\"price\"].memory_usage(index=False, deep=True))\n",
    "\n",
    "print(\"\\n\")\n",
    "\n",
    "print(items[\"freight_value\"].dtypes)\n",
    "print(items[\"freight_value\"].memory_usage(index=False, deep=True))\n",
    "items[\"freight_value\"] = items[\"freight_value\"].astype(pd.Float32Dtype())\n",
    "print(items[\"freight_value\"].dtypes)\n",
    "print(items[\"freight_value\"].memory_usage(index=False, deep=True))\n",
    "\n",
    "print(\"\\n\")\n",
    "\n",
    "print(payments[\"payment_sequential\"].dtypes)\n",
    "print(payments[\"payment_sequential\"].memory_usage(index=False, deep=True))\n",
    "payments[\"payment_sequential\"] = payments[\"payment_sequential\"].astype(pd.Int8Dtype())\n",
    "print(payments[\"payment_sequential\"].dtypes)\n",
    "print(payments[\"payment_sequential\"].memory_usage(index=False, deep=True))\n",
    "\n",
    "print(\"\\n\")\n",
    "\n",
    "print(payments[\"payment_installments\"].dtypes)\n",
    "print(payments[\"payment_installments\"].memory_usage(index=False, deep=True))\n",
    "payments[\"payment_installments\"] = payments[\"payment_installments\"].astype(pd.Int8Dtype())\n",
    "print(payments[\"payment_installments\"].dtypes)\n",
    "print(payments[\"payment_installments\"].memory_usage(index=False, deep=True))\n",
    "\n",
    "print(\"\\n\")\n",
    "\n",
    "print(payments[\"payment_value\"].dtypes)\n",
    "print(payments[\"payment_value\"].memory_usage(index=False, deep=True))\n",
    "payments[\"payment_value\"] = payments[\"payment_value\"].astype(pd.Float32Dtype())\n",
    "print(payments[\"payment_value\"].dtypes)\n",
    "print(payments[\"payment_value\"].memory_usage(index=False, deep=True))\n",
    "\n",
    "print(\"\\n\")\n",
    "\n",
    "print(reviews[\"review_score\"].dtypes)\n",
    "print(reviews[\"review_score\"].memory_usage(index=False, deep=True))\n",
    "reviews[\"review_score\"] = reviews[\"review_score\"].astype(pd.Int8Dtype())\n",
    "print(reviews[\"review_score\"].dtypes)\n",
    "print(reviews[\"review_score\"].memory_usage(index=False, deep=True))\n",
    "\n",
    "print(\"\\n\")\n",
    "\n",
    "print(products[\"product_name_lenght\"].dtypes)\n",
    "print(products[\"product_name_lenght\"].memory_usage(index=False, deep=True))\n",
    "products[\"product_name_lenght\"] = products[\"product_name_lenght\"].astype(pd.Float32Dtype())\n",
    "print(products[\"product_name_lenght\"].dtypes)\n",
    "print(products[\"product_name_lenght\"].memory_usage(index=False, deep=True))\n",
    "\n",
    "print(\"\\n\")\n",
    "\n",
    "print(products[\"product_description_lenght\"].dtypes)\n",
    "print(products[\"product_description_lenght\"].memory_usage(index=False, deep=True))\n",
    "products[\"product_description_lenght\"] = products[\"product_description_lenght\"].astype(pd.Float32Dtype())\n",
    "print(products[\"product_description_lenght\"].dtypes)\n",
    "print(products[\"product_description_lenght\"].memory_usage(index=False, deep=True))\n",
    "\n",
    "print(\"\\n\")\n",
    "\n",
    "print(products[\"product_photos_qty\"].dtypes)\n",
    "print(products[\"product_photos_qty\"].memory_usage(index=False, deep=True))\n",
    "products[\"product_photos_qty\"] = products[\"product_photos_qty\"].astype(pd.Float32Dtype())\n",
    "print(products[\"product_photos_qty\"].dtypes)\n",
    "print(products[\"product_photos_qty\"].memory_usage(index=False, deep=True))\n",
    "\n",
    "print(\"\\n\")\n",
    "\n",
    "print(products[\"product_weight_g\"].dtypes)\n",
    "print(products[\"product_weight_g\"].memory_usage(index=False, deep=True))\n",
    "products[\"product_weight_g\"] = products[\"product_weight_g\"].astype(pd.Float32Dtype())\n",
    "print(products[\"product_weight_g\"].dtypes)\n",
    "print(products[\"product_weight_g\"].memory_usage(index=False, deep=True))\n",
    "\n",
    "print(\"\\n\")\n",
    "\n",
    "print(products[\"product_length_cm\"].dtypes)\n",
    "print(products[\"product_length_cm\"].memory_usage(index=False, deep=True))\n",
    "products[\"product_length_cm\"] = products[\"product_length_cm\"].astype(pd.Float32Dtype())\n",
    "print(products[\"product_length_cm\"].dtypes)\n",
    "print(products[\"product_length_cm\"].memory_usage(index=False, deep=True))\n",
    "\n",
    "print(\"\\n\")\n",
    "\n",
    "print(products[\"product_height_cm\"].dtypes)\n",
    "print(products[\"product_height_cm\"].memory_usage(index=False, deep=True))\n",
    "products[\"product_height_cm\"] = products[\"product_height_cm\"].astype(pd.Float32Dtype())\n",
    "print(products[\"product_height_cm\"].dtypes)\n",
    "print(products[\"product_height_cm\"].memory_usage(index=False, deep=True))\n",
    "\n",
    "print(\"\\n\")\n",
    "\n",
    "print(products[\"product_width_cm\"].dtypes)\n",
    "print(products[\"product_width_cm\"].memory_usage(index=False, deep=True))\n",
    "products[\"product_width_cm\"] = products[\"product_width_cm\"].astype(pd.Float32Dtype())\n",
    "print(products[\"product_width_cm\"].dtypes)\n",
    "print(products[\"product_width_cm\"].memory_usage(index=False, deep=True))"
   ]
  },
  {
   "cell_type": "markdown",
   "id": "c64eb4e2",
   "metadata": {},
   "source": [
    "## <center>DataSets Joins</center>"
   ]
  },
  {
   "cell_type": "markdown",
   "id": "81b343aa",
   "metadata": {},
   "source": [
    "Creation of a unique dataset."
   ]
  },
  {
   "cell_type": "code",
   "execution_count": 8,
   "id": "39650538",
   "metadata": {},
   "outputs": [],
   "source": [
    "df = pd.merge(payments, orders, on=[\"order_id\"])"
   ]
  },
  {
   "cell_type": "code",
   "execution_count": 9,
   "id": "cf6fdaa6",
   "metadata": {},
   "outputs": [],
   "source": [
    "df = pd.merge(df, reviews, how=\"left\", on=[\"order_id\"])"
   ]
  },
  {
   "cell_type": "code",
   "execution_count": 10,
   "id": "eb364c39",
   "metadata": {},
   "outputs": [],
   "source": [
    "df = pd.merge(df, items, how=\"left\", on=[\"order_id\"])"
   ]
  },
  {
   "cell_type": "code",
   "execution_count": 11,
   "id": "60d01478",
   "metadata": {},
   "outputs": [],
   "source": [
    "df = pd.merge(df, customers, how=\"left\", on=[\"customer_id\"])"
   ]
  },
  {
   "cell_type": "code",
   "execution_count": 12,
   "id": "72d7ddd3",
   "metadata": {},
   "outputs": [],
   "source": [
    "df = pd.merge(df, products, how=\"left\", on=[\"product_id\"])"
   ]
  },
  {
   "cell_type": "code",
   "execution_count": 13,
   "id": "adf2a536",
   "metadata": {},
   "outputs": [],
   "source": [
    "df = pd.merge(df, sellers, how=\"left\", on=[\"seller_id\"])"
   ]
  },
  {
   "cell_type": "code",
   "execution_count": 14,
   "id": "23bd7923",
   "metadata": {},
   "outputs": [
    {
     "data": {
      "text/plain": [
       "Index(['order_id', 'payment_sequential', 'payment_type',\n",
       "       'payment_installments', 'payment_value', 'customer_id', 'order_status',\n",
       "       'order_purchase_timestamp', 'order_approved_at',\n",
       "       'order_delivered_carrier_date', 'order_delivered_customer_date',\n",
       "       'order_estimated_delivery_date', 'review_id', 'review_score',\n",
       "       'review_comment_title', 'review_comment_message',\n",
       "       'review_creation_date', 'review_answer_timestamp', 'order_item_id',\n",
       "       'product_id', 'seller_id', 'shipping_limit_date', 'price',\n",
       "       'freight_value', 'customer_unique_id', 'customer_zip_code_prefix',\n",
       "       'customer_city', 'customer_state', 'product_category_name',\n",
       "       'product_name_lenght', 'product_description_lenght',\n",
       "       'product_photos_qty', 'product_weight_g', 'product_length_cm',\n",
       "       'product_height_cm', 'product_width_cm', 'seller_zip_code_prefix',\n",
       "       'seller_city', 'seller_state'],\n",
       "      dtype='object')"
      ]
     },
     "execution_count": 14,
     "metadata": {},
     "output_type": "execute_result"
    }
   ],
   "source": [
    "df.columns"
   ]
  },
  {
   "cell_type": "code",
   "execution_count": 15,
   "id": "3fe154ae",
   "metadata": {},
   "outputs": [
    {
     "name": "stderr",
     "output_type": "stream",
     "text": [
      "\n",
      "KeyboardInterrupt\n",
      "\n"
     ]
    }
   ],
   "source": [
    "geolocation.rename(columns={\"geolocation_zip_code_prefix\": \"seller_zip_code_prefix\"}, inplace = True)\n",
    "df = pd.merge(df, geolocation, how=\"left\", on=[\"seller_zip_code_prefix\"])"
   ]
  },
  {
   "cell_type": "code",
   "execution_count": null,
   "id": "433402b6",
   "metadata": {},
   "outputs": [],
   "source": [
    "df.rename(columns={\"product_category_name_x\": \"product_category_name\"}, inplace = True)\n",
    "df = pd.merge(df, category, how=\"left\", on=[\"product_category_name\"])"
   ]
  },
  {
   "cell_type": "code",
   "execution_count": null,
   "id": "1b89b729",
   "metadata": {},
   "outputs": [],
   "source": [
    "print(df.shape)\n",
    "pd.set_option('display.max_columns', 45)\n",
    "df.head()"
   ]
  },
  {
   "cell_type": "code",
   "execution_count": null,
   "id": "b02933e3",
   "metadata": {},
   "outputs": [],
   "source": [
    "df.describe().round(2)"
   ]
  },
  {
   "cell_type": "code",
   "execution_count": null,
   "id": "d047a41a",
   "metadata": {
    "scrolled": true
   },
   "outputs": [],
   "source": [
    "df.dtypes"
   ]
  },
  {
   "cell_type": "code",
   "execution_count": null,
   "id": "1f81a143",
   "metadata": {},
   "outputs": [],
   "source": [
    "df.columns"
   ]
  },
  {
   "cell_type": "raw",
   "id": "525a0634",
   "metadata": {},
   "source": [
    "df.rename(columns={\"product_name_lenght_x\": \"product_name_lenght\",\n",
    "                  \"product_description_lenght_x\": \"product_description_lenght\",\n",
    "                  \"product_photos_qty_x\": \"product_photos_qty\",\n",
    "                  \"product_weight_g_x\": \"product_weight_g\",\n",
    "                  \"product_length_cm_x\": \"product_length_cm\",\n",
    "                  \"product_height_cm_x\": \"product_height_cm\",\n",
    "                  \"product_width_cm_x\": \"product_width_cm\"}, inplace = True)\n",
    "df.drop([\"product_name_lenght_y\", \n",
    "        \"product_description_lenght_y\",\n",
    "        \"product_photos_qty_y\",\n",
    "        \"product_weight_g_y\",\n",
    "        \"product_length_cm_y\",\n",
    "        \"product_height_cm_y\",\n",
    "        \"product_width_cm_y\",\n",
    "        \"product_category_name_y\"], axis = 1, inplace = True)"
   ]
  },
  {
   "cell_type": "markdown",
   "id": "3d881762",
   "metadata": {},
   "source": [
    "## <center>EDA</center>"
   ]
  },
  {
   "cell_type": "code",
   "execution_count": null,
   "id": "fc64d9df",
   "metadata": {},
   "outputs": [],
   "source": [
    "df.shape"
   ]
  },
  {
   "cell_type": "markdown",
   "id": "04de7b62",
   "metadata": {},
   "source": [
    "***"
   ]
  },
  {
   "cell_type": "markdown",
   "id": "a7b2131e",
   "metadata": {},
   "source": [
    "### Duplicated Rows"
   ]
  },
  {
   "cell_type": "code",
   "execution_count": null,
   "id": "32b3aef0",
   "metadata": {},
   "outputs": [],
   "source": [
    "df.duplicated().sum()"
   ]
  },
  {
   "cell_type": "code",
   "execution_count": null,
   "id": "c18d6220",
   "metadata": {},
   "outputs": [],
   "source": [
    "df.drop_duplicates(inplace = True)"
   ]
  },
  {
   "cell_type": "code",
   "execution_count": null,
   "id": "6acb35ce",
   "metadata": {},
   "outputs": [],
   "source": [
    "df.duplicated().sum()"
   ]
  },
  {
   "cell_type": "markdown",
   "id": "fbc01bb0",
   "metadata": {},
   "source": [
    "***"
   ]
  },
  {
   "cell_type": "markdown",
   "id": "86ede392",
   "metadata": {},
   "source": [
    "### Missing Values"
   ]
  },
  {
   "cell_type": "code",
   "execution_count": null,
   "id": "2c4ef239",
   "metadata": {},
   "outputs": [],
   "source": [
    "df.isnull().sum()*100/len(df)"
   ]
  },
  {
   "cell_type": "markdown",
   "id": "d0ee056e",
   "metadata": {},
   "source": [
    "The features \"review_comment_title\" and \"review_comment_message\" have too much missing values.\n",
    "\n",
    "They are about title and comments, I will drop theses features."
   ]
  },
  {
   "cell_type": "code",
   "execution_count": null,
   "id": "12db0552",
   "metadata": {},
   "outputs": [],
   "source": [
    "df.drop([\"review_comment_title\", \"review_comment_message\"], axis = 1, inplace = True)"
   ]
  },
  {
   "cell_type": "markdown",
   "id": "86d36e1e",
   "metadata": {},
   "source": [
    "For the other features with missing values, the amount is very low, I will drop the rows concerned."
   ]
  },
  {
   "cell_type": "code",
   "execution_count": null,
   "id": "fbb5fa22",
   "metadata": {},
   "outputs": [],
   "source": [
    "df.dropna(inplace = True)"
   ]
  },
  {
   "cell_type": "code",
   "execution_count": null,
   "id": "21a68a48",
   "metadata": {},
   "outputs": [],
   "source": [
    "df.isnull().sum()*100/len(df)"
   ]
  },
  {
   "cell_type": "markdown",
   "id": "e4360160",
   "metadata": {},
   "source": [
    "***"
   ]
  },
  {
   "cell_type": "markdown",
   "id": "29aa531c",
   "metadata": {},
   "source": [
    "### Comparer the order_id / the customer_id / the product_id / the seller_id"
   ]
  },
  {
   "cell_type": "code",
   "execution_count": null,
   "id": "99e96c76",
   "metadata": {},
   "outputs": [],
   "source": [
    "df.columns"
   ]
  },
  {
   "cell_type": "code",
   "execution_count": null,
   "id": "cfedc00b",
   "metadata": {},
   "outputs": [],
   "source": [
    "#print(df[\"order_id\"].value_counts())\n",
    "#print(df[\"customer_id\"].value_counts())\n",
    "#print(df[\"product_id\"].value_counts())\n",
    "#print(df[\"seller_id\"].value_counts())"
   ]
  },
  {
   "cell_type": "code",
   "execution_count": null,
   "id": "cc1eed93",
   "metadata": {},
   "outputs": [],
   "source": [
    "from sklearn.preprocessing import LabelEncoder\n",
    "le = LabelEncoder()\n",
    "df[\"order_id\"] = le.fit_transform(df[\"order_id\"])\n",
    "df[\"customer_id\"] = le.fit_transform(df[\"customer_id\"])\n",
    "df[\"customer_unique_id\"] = le.fit_transform(df[\"customer_unique_id\"])\n",
    "df[\"product_id\"] = le.fit_transform(df[\"product_id\"])\n",
    "df[\"seller_id\"] = le.fit_transform(df[\"seller_id\"])"
   ]
  },
  {
   "cell_type": "code",
   "execution_count": null,
   "id": "3871cc82",
   "metadata": {},
   "outputs": [],
   "source": [
    "#print(df[\"order_id\"].value_counts())\n",
    "#print(df[\"customer_id\"].value_counts())\n",
    "#print(df[\"product_id\"].value_counts())\n",
    "#print(df[\"seller_id\"].value_counts())"
   ]
  },
  {
   "cell_type": "code",
   "execution_count": null,
   "id": "c2370c05",
   "metadata": {},
   "outputs": [],
   "source": [
    "df[[\"order_id\", \"customer_id\", \"customer_unique_id\", \"product_id\", \"seller_id\"]].describe().round(2)"
   ]
  },
  {
   "cell_type": "code",
   "execution_count": null,
   "id": "fcd020f0",
   "metadata": {},
   "outputs": [],
   "source": [
    "df[\"order_id\"].duplicated().sum()"
   ]
  },
  {
   "cell_type": "code",
   "execution_count": null,
   "id": "e54e4299",
   "metadata": {},
   "outputs": [],
   "source": [
    "df[\"customer_id\"].duplicated().sum()"
   ]
  },
  {
   "cell_type": "code",
   "execution_count": null,
   "id": "e5c00162",
   "metadata": {},
   "outputs": [],
   "source": [
    "df[\"customer_unique_id\"].duplicated().sum()"
   ]
  },
  {
   "cell_type": "code",
   "execution_count": null,
   "id": "b0dd2584",
   "metadata": {},
   "outputs": [],
   "source": [
    "df[\"seller_id\"].duplicated().sum()"
   ]
  },
  {
   "cell_type": "code",
   "execution_count": null,
   "id": "e1f4594e",
   "metadata": {},
   "outputs": [],
   "source": [
    "df[\"product_id\"].duplicated().sum()"
   ]
  },
  {
   "cell_type": "markdown",
   "id": "2930bd91",
   "metadata": {},
   "source": [
    "There are the same amount of order_id than the amount of customer_id.\n",
    "\n",
    "    If a customer make an order it create a new order_id each time the customer order. But we can found a same customer_id for different order_id.\n",
    "    BUT ATTENTION there are a customer_id related to the order_id (key to the orders dataset. Each order has a unique customer_id.) AND there are a customer_unique_id which is the unique customer_id. So, a customer will have a unique_customer_id like we have a unique social security number, and also a customer_id related to the order made, and so, at each order the customer get a new customer_id.\n",
    "    \n",
    "    There are a lower amount of customer_unique_id (91265) than the amount of customer_id (94258), the majority of the order are made by differents customer and so, a few numbers of customer made sereval orders.\n",
    "\n",
    "    We also can see that there duplicated (the same amount) of order_id and customer_id, because there are different product_id for each product, we can find duplicated of order_id and customer_id, indeed a customer in a same order can order different product.\n",
    "\n",
    "There are different amount of product_id, seller_id.\n",
    "\n",
    "    We can find the same product in different order. And a same product can be order multiple time in the same order.\n",
    "    \n",
    "    And the seller_id and the product_id are related, we can find the same seller_id multiple time in the same order or in different order."
   ]
  },
  {
   "cell_type": "markdown",
   "id": "9dfba233",
   "metadata": {},
   "source": [
    "***"
   ]
  },
  {
   "cell_type": "markdown",
   "id": "502beee2",
   "metadata": {},
   "source": [
    "### The differents types of product"
   ]
  },
  {
   "cell_type": "code",
   "execution_count": null,
   "id": "09ea214c",
   "metadata": {},
   "outputs": [],
   "source": [
    "df.head(5)"
   ]
  },
  {
   "cell_type": "code",
   "execution_count": null,
   "id": "ea621275",
   "metadata": {
    "scrolled": true
   },
   "outputs": [],
   "source": [
    "prod_cate = pd.DataFrame(data = df[\"product_category_name_english\"].value_counts())\n",
    "#pd.set_option('display.max_rows', None)\n",
    "#pd.reset_option('display.max_rows', None)\n",
    "prod_cate"
   ]
  },
  {
   "cell_type": "code",
   "execution_count": null,
   "id": "1562638d",
   "metadata": {},
   "outputs": [],
   "source": [
    "pd.reset_option('display.max_rows', None)"
   ]
  },
  {
   "cell_type": "markdown",
   "id": "902009d8",
   "metadata": {},
   "source": [
    "There are 71 product categories."
   ]
  },
  {
   "cell_type": "markdown",
   "id": "b904b733",
   "metadata": {},
   "source": [
    "***"
   ]
  },
  {
   "cell_type": "markdown",
   "id": "91ace636",
   "metadata": {},
   "source": [
    "### The differents types of order"
   ]
  },
  {
   "cell_type": "code",
   "execution_count": null,
   "id": "98719c43",
   "metadata": {},
   "outputs": [],
   "source": [
    "df.columns"
   ]
  },
  {
   "cell_type": "code",
   "execution_count": null,
   "id": "e1d65a45",
   "metadata": {},
   "outputs": [],
   "source": [
    "df[\"order_status\"].value_counts()"
   ]
  },
  {
   "cell_type": "markdown",
   "id": "68166bb7",
   "metadata": {},
   "source": [
    "Is the canceled order by differents customer and what are the products ordered ?"
   ]
  },
  {
   "cell_type": "code",
   "execution_count": null,
   "id": "b76cf7b8",
   "metadata": {
    "scrolled": true
   },
   "outputs": [],
   "source": [
    "order_canceled = df[df[\"order_status\"] == \"canceled\"]\n",
    "order_canceled.head(5)"
   ]
  },
  {
   "cell_type": "code",
   "execution_count": null,
   "id": "327afd15",
   "metadata": {},
   "outputs": [],
   "source": [
    "order_canceled[\"order_id\"].value_counts()"
   ]
  },
  {
   "cell_type": "code",
   "execution_count": null,
   "id": "b178e8f8",
   "metadata": {},
   "outputs": [],
   "source": [
    "order_canceled[\"customer_id\"].value_counts()"
   ]
  },
  {
   "cell_type": "code",
   "execution_count": null,
   "id": "bf00e70b",
   "metadata": {},
   "outputs": [],
   "source": [
    "order_canceled[\"customer_unique_id\"].value_counts()"
   ]
  },
  {
   "cell_type": "markdown",
   "id": "65c807a7",
   "metadata": {},
   "source": [
    "Here we can see that order canceled where so by 6 differents customer."
   ]
  },
  {
   "cell_type": "markdown",
   "id": "7de80944",
   "metadata": {},
   "source": [
    "Let's see what where ordered canceled."
   ]
  },
  {
   "cell_type": "code",
   "execution_count": null,
   "id": "7223dc68",
   "metadata": {},
   "outputs": [],
   "source": [
    "order_canceled[\"product_category_name_english\"].value_counts()"
   ]
  },
  {
   "cell_type": "markdown",
   "id": "81242c6c",
   "metadata": {},
   "source": [
    "***"
   ]
  },
  {
   "cell_type": "markdown",
   "id": "5e6f98a6",
   "metadata": {},
   "source": [
    "### The distributions of the differents products ordered"
   ]
  },
  {
   "cell_type": "code",
   "execution_count": null,
   "id": "7847eb4d",
   "metadata": {
    "scrolled": false
   },
   "outputs": [],
   "source": [
    "plt.figure(figsize=(15,15))\n",
    "sns.countplot(y=df[\"product_category_name_english\"])\n",
    "plt.xticks(rotation=90)"
   ]
  },
  {
   "cell_type": "code",
   "execution_count": null,
   "id": "a9efcc3a",
   "metadata": {},
   "outputs": [],
   "source": [
    "prod_percent = pd.DataFrame(data = df[\"product_category_name_english\"].value_counts()*100/len(df[\"product_category_name_english\"]))\n",
    "#pd.set_option('display.max_rows', 72)\n",
    "pd.reset_option('display.max_rows', 72)\n",
    "prod_percent.head(6).round(2)"
   ]
  },
  {
   "cell_type": "markdown",
   "id": "fd591187",
   "metadata": {},
   "source": [
    "There are about 20 differents types of products being the most ordered.\n",
    "\n",
    "And we can also see that the categories of product where the order were cancelled are also in the 20 differents types of products being the most ordered."
   ]
  },
  {
   "cell_type": "markdown",
   "id": "602a8657",
   "metadata": {},
   "source": [
    "The categories bed_bath_table / health_beauty / furniture_decor / sports_leisure / computers_accessories / housewares represent more than 50% of the products ordered."
   ]
  },
  {
   "cell_type": "markdown",
   "id": "1714f8de",
   "metadata": {},
   "source": [
    "***"
   ]
  },
  {
   "cell_type": "markdown",
   "id": "0d13a516",
   "metadata": {},
   "source": [
    "### Which are the clients"
   ]
  },
  {
   "cell_type": "code",
   "execution_count": null,
   "id": "01f1311f",
   "metadata": {},
   "outputs": [],
   "source": [
    "df[\"customer_unique_id\"].nunique()"
   ]
  },
  {
   "cell_type": "markdown",
   "id": "dada8345",
   "metadata": {},
   "source": [
    "There are 91266 differents clients."
   ]
  },
  {
   "cell_type": "markdown",
   "id": "192ffd0b",
   "metadata": {},
   "source": [
    "I don't have informations more precises about the clients like age, sexe,...)."
   ]
  },
  {
   "cell_type": "markdown",
   "id": "a3f61a32",
   "metadata": {},
   "source": [
    "***"
   ]
  },
  {
   "cell_type": "markdown",
   "id": "604d2f26",
   "metadata": {},
   "source": [
    "### When clients order"
   ]
  },
  {
   "cell_type": "code",
   "execution_count": null,
   "id": "91d9f6cd",
   "metadata": {},
   "outputs": [],
   "source": [
    "df[\"order_purchase_timestamp\"].value_counts()"
   ]
  },
  {
   "cell_type": "code",
   "execution_count": null,
   "id": "c8a9cbae",
   "metadata": {},
   "outputs": [],
   "source": [
    "df[\"order_purchase_timestamp\"] = pd.to_datetime(df[\"order_purchase_timestamp\"])\n",
    "print(df[\"order_purchase_timestamp\"].dtypes)"
   ]
  },
  {
   "cell_type": "code",
   "execution_count": null,
   "id": "3832c3e6",
   "metadata": {},
   "outputs": [],
   "source": [
    "df['Dates'] = pd.to_datetime(df[\"order_purchase_timestamp\"]).dt.date\n",
    "df[\"Dates\"] = pd.to_datetime(df[\"Dates\"])\n",
    "print(df[\"Dates\"].dtypes)"
   ]
  },
  {
   "cell_type": "code",
   "execution_count": null,
   "id": "7178979d",
   "metadata": {},
   "outputs": [],
   "source": [
    "df['Time'] = pd.to_datetime(df[\"order_purchase_timestamp\"]).dt.time"
   ]
  },
  {
   "cell_type": "code",
   "execution_count": null,
   "id": "f4ad6166",
   "metadata": {},
   "outputs": [],
   "source": [
    "df['Day']= pd.to_datetime(df['Dates']).dt.day\n",
    "df['Month']= pd.to_datetime(df['Dates']).dt.month\n",
    "df['Year']= pd.to_datetime(df['Dates']).dt.year"
   ]
  },
  {
   "cell_type": "code",
   "execution_count": null,
   "id": "457f7561",
   "metadata": {},
   "outputs": [],
   "source": [
    "plt.figure(figsize=(5,3))\n",
    "sns.countplot(x=df[\"Year\"])"
   ]
  },
  {
   "cell_type": "markdown",
   "id": "f7612ceb",
   "metadata": {},
   "source": [
    "The majority of the order were in 2017 and 2018."
   ]
  },
  {
   "cell_type": "code",
   "execution_count": null,
   "id": "93757303",
   "metadata": {},
   "outputs": [],
   "source": [
    "plt.figure(figsize=(5,3))\n",
    "sns.countplot(x=df[\"Month\"])"
   ]
  },
  {
   "cell_type": "code",
   "execution_count": null,
   "id": "d5693df4",
   "metadata": {},
   "outputs": [],
   "source": [
    "plt.figure(figsize=(8,3))\n",
    "sns.countplot(x=df[\"Day\"])"
   ]
  },
  {
   "cell_type": "code",
   "execution_count": null,
   "id": "76e3d4be",
   "metadata": {},
   "outputs": [],
   "source": [
    "dd = df.copy()\n",
    "\n",
    "dd = dd.set_index('Dates')\n",
    "dd.index"
   ]
  },
  {
   "cell_type": "code",
   "execution_count": null,
   "id": "b8759f50",
   "metadata": {},
   "outputs": [],
   "source": []
  },
  {
   "cell_type": "code",
   "execution_count": null,
   "id": "11409b77",
   "metadata": {},
   "outputs": [],
   "source": []
  },
  {
   "cell_type": "code",
   "execution_count": null,
   "id": "cfe624ce",
   "metadata": {},
   "outputs": [],
   "source": []
  },
  {
   "cell_type": "code",
   "execution_count": null,
   "id": "0fdf2de5",
   "metadata": {},
   "outputs": [],
   "source": []
  },
  {
   "cell_type": "code",
   "execution_count": null,
   "id": "7f465ad1",
   "metadata": {},
   "outputs": [],
   "source": []
  },
  {
   "cell_type": "markdown",
   "id": "4b0f63c4",
   "metadata": {},
   "source": [
    "### Where are located the customers"
   ]
  },
  {
   "cell_type": "raw",
   "id": "3eb233d5",
   "metadata": {},
   "source": [
    "df[['customer_city', 'customer_state', 'seller_city', 'seller_state', 'geolocation_lat', 'geolocation_lng',\n",
    "       'geolocation_city', 'geolocation_state']].head(3)"
   ]
  },
  {
   "cell_type": "raw",
   "id": "c22a7c99",
   "metadata": {},
   "source": [
    "df.columns"
   ]
  },
  {
   "cell_type": "raw",
   "id": "e8677935",
   "metadata": {},
   "source": [
    "from geopy.geocoders import Nominatim\n",
    "geolocator = Nominatim(user_agent='myapplication')\n",
    "location = geolocator.geocode([[\"teofilo otoni\", \"salto\"]])\n",
    "#print(location)\n",
    "print(location.latitude)\n",
    "print(location.longitude)"
   ]
  },
  {
   "cell_type": "raw",
   "id": "b6250f00",
   "metadata": {},
   "source": [
    "dfc = df.copy()\n",
    "\n",
    "print(dfc[\"customer_city\"].duplicated().sum())\n",
    "\n",
    "customer_city = pd.DataFrame(data = dfc[\"customer_city\"])\n",
    "\n",
    "customer_city.drop_duplicates(inplace = True)\n",
    "\n",
    "print(customer_city.columns)\n",
    "\n",
    "customer_city.head(3)"
   ]
  },
  {
   "cell_type": "raw",
   "id": "c398478b",
   "metadata": {},
   "source": [
    "#Importing the required modules\n",
    "import pandas as pd\n",
    "from geopy.geocoders import Nominatim\n",
    "from geopy.extra.rate_limiter import RateLimiter\n",
    "\n",
    "#Creating a dataframe with address of locations we want to reterive\n",
    "locat = ['Coorg, Karnataka' , 'Khajjiar, Himachal Pradesh',\\\n",
    "         'Chail, Himachal Pradesh' , 'Pithoragarh, Uttarakhand','Munnar, Kerala']\n",
    "dft = pd.DataFrame({'add': locat})\n",
    "\n",
    "#Creating an instance of Nominatim Class\n",
    "geolocator = Nominatim(user_agent=\"my_request\")\n",
    "\n",
    "#applying the rate limiter wrapper\n",
    "geocode = RateLimiter(geolocator.geocode, min_delay_seconds=1)\n",
    "\n",
    "#Applying the method to pandas DataFrame\n",
    "dft['location'] = dft['add'].apply(geocode)\n",
    "dft['Lat'] = dft['location'].apply(lambda x: x.latitude if x else None)\n",
    "dft['Lon'] = dft['location'].apply(lambda x: x.longitude if x else None)\n",
    "\n",
    "dft"
   ]
  },
  {
   "cell_type": "raw",
   "id": "b341c7c4",
   "metadata": {},
   "source": [
    "pd.reset_option('display.max_rows', 500)\n",
    "print(customer_city[\"customer_city\"].values)"
   ]
  },
  {
   "cell_type": "code",
   "execution_count": null,
   "id": "2111fbe9",
   "metadata": {},
   "outputs": [],
   "source": []
  },
  {
   "cell_type": "code",
   "execution_count": null,
   "id": "51228e58",
   "metadata": {},
   "outputs": [],
   "source": []
  },
  {
   "cell_type": "code",
   "execution_count": null,
   "id": "dbc399e4",
   "metadata": {},
   "outputs": [],
   "source": []
  },
  {
   "cell_type": "code",
   "execution_count": null,
   "id": "94eb98b1",
   "metadata": {},
   "outputs": [],
   "source": []
  }
 ],
 "metadata": {
  "kernelspec": {
   "display_name": "Python 3 (ipykernel)",
   "language": "python",
   "name": "python3"
  },
  "language_info": {
   "codemirror_mode": {
    "name": "ipython",
    "version": 3
   },
   "file_extension": ".py",
   "mimetype": "text/x-python",
   "name": "python",
   "nbconvert_exporter": "python",
   "pygments_lexer": "ipython3",
   "version": "3.9.15"
  },
  "latex_envs": {
   "LaTeX_envs_menu_present": true,
   "autoclose": false,
   "autocomplete": true,
   "bibliofile": "biblio.bib",
   "cite_by": "apalike",
   "current_citInitial": 1,
   "eqLabelWithNumbers": true,
   "eqNumInitial": 1,
   "hotkeys": {
    "equation": "Ctrl-E",
    "itemize": "Ctrl-I"
   },
   "labels_anchors": false,
   "latex_user_defs": false,
   "report_style_numbering": false,
   "user_envs_cfg": false
  }
 },
 "nbformat": 4,
 "nbformat_minor": 5
}
