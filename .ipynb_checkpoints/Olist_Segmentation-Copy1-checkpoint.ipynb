{
 "cells": [
  {
   "cell_type": "markdown",
   "id": "d767c976",
   "metadata": {},
   "source": [
    "# <center>Olist Segmentation</center>"
   ]
  },
  {
   "cell_type": "markdown",
   "id": "fca0127c",
   "metadata": {},
   "source": [
    "## <center>Librairies Importations</center>"
   ]
  },
  {
   "cell_type": "code",
   "execution_count": 1,
   "id": "ca659481",
   "metadata": {},
   "outputs": [],
   "source": [
    "import pandas as pd\n",
    "import numpy as np\n",
    "import matplotlib.pyplot as plt\n",
    "import seaborn as sns"
   ]
  },
  {
   "cell_type": "markdown",
   "id": "6d279e26",
   "metadata": {},
   "source": [
    "## <center>DataSets Importations</center>"
   ]
  },
  {
   "cell_type": "code",
   "execution_count": 2,
   "id": "0016e721",
   "metadata": {},
   "outputs": [],
   "source": [
    "customers = pd.read_csv(\"olist_customers_dataset.csv\")\n",
    "geolocation = pd.read_csv(\"olist_geolocation_dataset.csv\")\n",
    "items = pd.read_csv(\"olist_order_items_dataset.csv\")\n",
    "payments = pd.read_csv(\"olist_order_payments_dataset.csv\")\n",
    "reviews = pd.read_csv(\"olist_order_reviews_dataset.csv\")\n",
    "orders = pd.read_csv(\"olist_orders_dataset.csv\")\n",
    "products = pd.read_csv(\"olist_products_dataset.csv\")\n",
    "sellers = pd.read_csv(\"olist_sellers_dataset.csv\")\n",
    "category = pd.read_csv(\"product_category_name_translation.csv\")"
   ]
  },
  {
   "cell_type": "code",
   "execution_count": 3,
   "id": "b87b564c",
   "metadata": {},
   "outputs": [],
   "source": [
    "#from IPython.display import Image\n",
    "#Image(url=\"databases.png\", width=800, height=200)"
   ]
  },
  {
   "cell_type": "code",
   "execution_count": 63,
   "id": "9abfaae4",
   "metadata": {},
   "outputs": [
    {
     "data": {
      "text/plain": [
       "Index(['product_id', 'product_category_name', 'product_name_lenght',\n",
       "       'product_description_lenght', 'product_photos_qty', 'product_weight_g',\n",
       "       'product_length_cm', 'product_height_cm', 'product_width_cm'],\n",
       "      dtype='object')"
      ]
     },
     "execution_count": 63,
     "metadata": {},
     "output_type": "execute_result"
    }
   ],
   "source": [
    "products.columns"
   ]
  },
  {
   "cell_type": "markdown",
   "id": "2c18db5f",
   "metadata": {},
   "source": [
    "    int8 can store integers from -128 to 127.\n",
    "\n",
    "    int16 can store integers from -32768 to 32767.\n",
    "\n",
    "    int64 can store integers from -9223372036854775808 to 9223372036854775807."
   ]
  },
  {
   "cell_type": "code",
   "execution_count": 5,
   "id": "16eb4dba",
   "metadata": {},
   "outputs": [],
   "source": [
    "#category.dtypes"
   ]
  },
  {
   "cell_type": "code",
   "execution_count": 6,
   "id": "f6aaa526",
   "metadata": {},
   "outputs": [],
   "source": [
    "#category.describe().round(2)"
   ]
  },
  {
   "cell_type": "code",
   "execution_count": 7,
   "id": "1421e3a4",
   "metadata": {
    "scrolled": true
   },
   "outputs": [
    {
     "name": "stdout",
     "output_type": "stream",
     "text": [
      "float64\n",
      "8001304\n",
      "Float32\n",
      "5000815\n",
      "\n",
      "\n",
      "float64\n",
      "8001304\n",
      "Float32\n",
      "5000815\n",
      "\n",
      "\n",
      "int64\n",
      "901200\n",
      "Int8\n",
      "225300\n",
      "\n",
      "\n",
      "float64\n",
      "901200\n",
      "Float32\n",
      "563250\n",
      "\n",
      "\n",
      "float64\n",
      "901200\n",
      "Float32\n",
      "563250\n",
      "\n",
      "\n",
      "int64\n",
      "831088\n",
      "Int8\n",
      "207772\n",
      "\n",
      "\n",
      "int64\n",
      "831088\n",
      "Int8\n",
      "207772\n",
      "\n",
      "\n",
      "float64\n",
      "831088\n",
      "Float32\n",
      "519430\n",
      "\n",
      "\n",
      "int64\n",
      "793792\n",
      "Int8\n",
      "198448\n",
      "\n",
      "\n",
      "float64\n",
      "263608\n",
      "Float32\n",
      "164755\n",
      "\n",
      "\n",
      "float64\n",
      "263608\n",
      "Float32\n",
      "164755\n",
      "\n",
      "\n",
      "float64\n",
      "263608\n",
      "Float32\n",
      "164755\n",
      "\n",
      "\n",
      "float64\n",
      "263608\n",
      "Float32\n",
      "164755\n",
      "\n",
      "\n",
      "float64\n",
      "263608\n",
      "Float32\n",
      "164755\n",
      "\n",
      "\n",
      "float64\n",
      "263608\n",
      "Float32\n",
      "164755\n",
      "\n",
      "\n",
      "float64\n",
      "263608\n",
      "Float32\n",
      "164755\n"
     ]
    }
   ],
   "source": [
    "print(geolocation[\"geolocation_lat\"].dtypes)\n",
    "print(geolocation[\"geolocation_lat\"].memory_usage(index=False, deep=True))\n",
    "geolocation[\"geolocation_lat\"] = geolocation[\"geolocation_lat\"].astype(pd.Float32Dtype())\n",
    "print(geolocation[\"geolocation_lat\"].dtypes)\n",
    "print(geolocation[\"geolocation_lat\"].memory_usage(index=False, deep=True))\n",
    "\n",
    "print(\"\\n\")\n",
    "\n",
    "print(geolocation[\"geolocation_lng\"].dtypes)\n",
    "print(geolocation[\"geolocation_lng\"].memory_usage(index=False, deep=True))\n",
    "geolocation[\"geolocation_lng\"] = geolocation[\"geolocation_lng\"].astype(pd.Float32Dtype())\n",
    "print(geolocation[\"geolocation_lng\"].dtypes)\n",
    "print(geolocation[\"geolocation_lng\"].memory_usage(index=False, deep=True))\n",
    "\n",
    "print(\"\\n\")\n",
    "\n",
    "print(items[\"order_item_id\"].dtypes)\n",
    "print(items[\"order_item_id\"].memory_usage(index=False, deep=True))\n",
    "items[\"order_item_id\"] = items[\"order_item_id\"].astype(pd.Int8Dtype())\n",
    "print(items[\"order_item_id\"].dtypes)\n",
    "print(items[\"order_item_id\"].memory_usage(index=False, deep=True))\n",
    "\n",
    "print(\"\\n\")\n",
    "\n",
    "print(items[\"price\"].dtypes)\n",
    "print(items[\"price\"].memory_usage(index=False, deep=True))\n",
    "items[\"price\"] = items[\"price\"].astype(pd.Float32Dtype())\n",
    "print(items[\"price\"].dtypes)\n",
    "print(items[\"price\"].memory_usage(index=False, deep=True))\n",
    "\n",
    "print(\"\\n\")\n",
    "\n",
    "print(items[\"freight_value\"].dtypes)\n",
    "print(items[\"freight_value\"].memory_usage(index=False, deep=True))\n",
    "items[\"freight_value\"] = items[\"freight_value\"].astype(pd.Float32Dtype())\n",
    "print(items[\"freight_value\"].dtypes)\n",
    "print(items[\"freight_value\"].memory_usage(index=False, deep=True))\n",
    "\n",
    "print(\"\\n\")\n",
    "\n",
    "print(payments[\"payment_sequential\"].dtypes)\n",
    "print(payments[\"payment_sequential\"].memory_usage(index=False, deep=True))\n",
    "payments[\"payment_sequential\"] = payments[\"payment_sequential\"].astype(pd.Int8Dtype())\n",
    "print(payments[\"payment_sequential\"].dtypes)\n",
    "print(payments[\"payment_sequential\"].memory_usage(index=False, deep=True))\n",
    "\n",
    "print(\"\\n\")\n",
    "\n",
    "print(payments[\"payment_installments\"].dtypes)\n",
    "print(payments[\"payment_installments\"].memory_usage(index=False, deep=True))\n",
    "payments[\"payment_installments\"] = payments[\"payment_installments\"].astype(pd.Int8Dtype())\n",
    "print(payments[\"payment_installments\"].dtypes)\n",
    "print(payments[\"payment_installments\"].memory_usage(index=False, deep=True))\n",
    "\n",
    "print(\"\\n\")\n",
    "\n",
    "print(payments[\"payment_value\"].dtypes)\n",
    "print(payments[\"payment_value\"].memory_usage(index=False, deep=True))\n",
    "payments[\"payment_value\"] = payments[\"payment_value\"].astype(pd.Float32Dtype())\n",
    "print(payments[\"payment_value\"].dtypes)\n",
    "print(payments[\"payment_value\"].memory_usage(index=False, deep=True))\n",
    "\n",
    "print(\"\\n\")\n",
    "\n",
    "print(reviews[\"review_score\"].dtypes)\n",
    "print(reviews[\"review_score\"].memory_usage(index=False, deep=True))\n",
    "reviews[\"review_score\"] = reviews[\"review_score\"].astype(pd.Int8Dtype())\n",
    "print(reviews[\"review_score\"].dtypes)\n",
    "print(reviews[\"review_score\"].memory_usage(index=False, deep=True))\n",
    "\n",
    "print(\"\\n\")\n",
    "\n",
    "print(products[\"product_name_lenght\"].dtypes)\n",
    "print(products[\"product_name_lenght\"].memory_usage(index=False, deep=True))\n",
    "products[\"product_name_lenght\"] = products[\"product_name_lenght\"].astype(pd.Float32Dtype())\n",
    "print(products[\"product_name_lenght\"].dtypes)\n",
    "print(products[\"product_name_lenght\"].memory_usage(index=False, deep=True))\n",
    "\n",
    "print(\"\\n\")\n",
    "\n",
    "print(products[\"product_description_lenght\"].dtypes)\n",
    "print(products[\"product_description_lenght\"].memory_usage(index=False, deep=True))\n",
    "products[\"product_description_lenght\"] = products[\"product_description_lenght\"].astype(pd.Float32Dtype())\n",
    "print(products[\"product_description_lenght\"].dtypes)\n",
    "print(products[\"product_description_lenght\"].memory_usage(index=False, deep=True))\n",
    "\n",
    "print(\"\\n\")\n",
    "\n",
    "print(products[\"product_photos_qty\"].dtypes)\n",
    "print(products[\"product_photos_qty\"].memory_usage(index=False, deep=True))\n",
    "products[\"product_photos_qty\"] = products[\"product_photos_qty\"].astype(pd.Float32Dtype())\n",
    "print(products[\"product_photos_qty\"].dtypes)\n",
    "print(products[\"product_photos_qty\"].memory_usage(index=False, deep=True))\n",
    "\n",
    "print(\"\\n\")\n",
    "\n",
    "print(products[\"product_weight_g\"].dtypes)\n",
    "print(products[\"product_weight_g\"].memory_usage(index=False, deep=True))\n",
    "products[\"product_weight_g\"] = products[\"product_weight_g\"].astype(pd.Float32Dtype())\n",
    "print(products[\"product_weight_g\"].dtypes)\n",
    "print(products[\"product_weight_g\"].memory_usage(index=False, deep=True))\n",
    "\n",
    "print(\"\\n\")\n",
    "\n",
    "print(products[\"product_length_cm\"].dtypes)\n",
    "print(products[\"product_length_cm\"].memory_usage(index=False, deep=True))\n",
    "products[\"product_length_cm\"] = products[\"product_length_cm\"].astype(pd.Float32Dtype())\n",
    "print(products[\"product_length_cm\"].dtypes)\n",
    "print(products[\"product_length_cm\"].memory_usage(index=False, deep=True))\n",
    "\n",
    "print(\"\\n\")\n",
    "\n",
    "print(products[\"product_height_cm\"].dtypes)\n",
    "print(products[\"product_height_cm\"].memory_usage(index=False, deep=True))\n",
    "products[\"product_height_cm\"] = products[\"product_height_cm\"].astype(pd.Float32Dtype())\n",
    "print(products[\"product_height_cm\"].dtypes)\n",
    "print(products[\"product_height_cm\"].memory_usage(index=False, deep=True))\n",
    "\n",
    "print(\"\\n\")\n",
    "\n",
    "print(products[\"product_width_cm\"].dtypes)\n",
    "print(products[\"product_width_cm\"].memory_usage(index=False, deep=True))\n",
    "products[\"product_width_cm\"] = products[\"product_width_cm\"].astype(pd.Float32Dtype())\n",
    "print(products[\"product_width_cm\"].dtypes)\n",
    "print(products[\"product_width_cm\"].memory_usage(index=False, deep=True))"
   ]
  },
  {
   "cell_type": "markdown",
   "id": "c64eb4e2",
   "metadata": {},
   "source": [
    "## <center>DataSets Joins</center>"
   ]
  },
  {
   "cell_type": "markdown",
   "id": "81b343aa",
   "metadata": {},
   "source": [
    "Creation of a unique dataset."
   ]
  },
  {
   "cell_type": "code",
   "execution_count": 8,
   "id": "39650538",
   "metadata": {},
   "outputs": [],
   "source": [
    "df = pd.merge(payments, orders, on=[\"order_id\"])"
   ]
  },
  {
   "cell_type": "code",
   "execution_count": 9,
   "id": "cf6fdaa6",
   "metadata": {},
   "outputs": [],
   "source": [
    "df = pd.merge(df, reviews, how=\"left\", on=[\"order_id\"])"
   ]
  },
  {
   "cell_type": "code",
   "execution_count": 10,
   "id": "eb364c39",
   "metadata": {},
   "outputs": [],
   "source": [
    "df = pd.merge(df, items, how=\"left\", on=[\"order_id\"])"
   ]
  },
  {
   "cell_type": "code",
   "execution_count": 11,
   "id": "60d01478",
   "metadata": {},
   "outputs": [],
   "source": [
    "df = pd.merge(df, customers, how=\"left\", on=[\"customer_id\"])"
   ]
  },
  {
   "cell_type": "code",
   "execution_count": 12,
   "id": "72d7ddd3",
   "metadata": {},
   "outputs": [],
   "source": [
    "df = pd.merge(df, products, how=\"left\", on=[\"product_id\"])"
   ]
  },
  {
   "cell_type": "code",
   "execution_count": 13,
   "id": "adf2a536",
   "metadata": {},
   "outputs": [],
   "source": [
    "df = pd.merge(df, sellers, how=\"left\", on=[\"seller_id\"])"
   ]
  },
  {
   "cell_type": "code",
   "execution_count": 14,
   "id": "23bd7923",
   "metadata": {},
   "outputs": [
    {
     "data": {
      "text/plain": [
       "Index(['order_id', 'payment_sequential', 'payment_type',\n",
       "       'payment_installments', 'payment_value', 'customer_id', 'order_status',\n",
       "       'order_purchase_timestamp', 'order_approved_at',\n",
       "       'order_delivered_carrier_date', 'order_delivered_customer_date',\n",
       "       'order_estimated_delivery_date', 'review_id', 'review_score',\n",
       "       'review_comment_title', 'review_comment_message',\n",
       "       'review_creation_date', 'review_answer_timestamp', 'order_item_id',\n",
       "       'product_id', 'seller_id', 'shipping_limit_date', 'price',\n",
       "       'freight_value', 'customer_unique_id', 'customer_zip_code_prefix',\n",
       "       'customer_city', 'customer_state', 'product_category_name',\n",
       "       'product_name_lenght', 'product_description_lenght',\n",
       "       'product_photos_qty', 'product_weight_g', 'product_length_cm',\n",
       "       'product_height_cm', 'product_width_cm', 'seller_zip_code_prefix',\n",
       "       'seller_city', 'seller_state'],\n",
       "      dtype='object')"
      ]
     },
     "execution_count": 14,
     "metadata": {},
     "output_type": "execute_result"
    }
   ],
   "source": [
    "df.columns"
   ]
  },
  {
   "cell_type": "code",
   "execution_count": 15,
   "id": "3fe154ae",
   "metadata": {},
   "outputs": [],
   "source": [
    "geolocation.rename(columns={\"geolocation_zip_code_prefix\": \"seller_zip_code_prefix\"}, inplace = True)\n",
    "df = pd.merge(df, geolocation, how=\"left\", on=[\"seller_zip_code_prefix\"])"
   ]
  },
  {
   "cell_type": "code",
   "execution_count": 16,
   "id": "433402b6",
   "metadata": {},
   "outputs": [],
   "source": [
    "df.rename(columns={\"product_category_name_x\": \"product_category_name\"}, inplace = True)\n",
    "df = pd.merge(df, category, how=\"left\", on=[\"product_category_name\"])"
   ]
  },
  {
   "cell_type": "code",
   "execution_count": 17,
   "id": "1b89b729",
   "metadata": {},
   "outputs": [
    {
     "name": "stdout",
     "output_type": "stream",
     "text": [
      "(17093918, 44)\n"
     ]
    },
    {
     "data": {
      "text/html": [
       "<div>\n",
       "<style scoped>\n",
       "    .dataframe tbody tr th:only-of-type {\n",
       "        vertical-align: middle;\n",
       "    }\n",
       "\n",
       "    .dataframe tbody tr th {\n",
       "        vertical-align: top;\n",
       "    }\n",
       "\n",
       "    .dataframe thead th {\n",
       "        text-align: right;\n",
       "    }\n",
       "</style>\n",
       "<table border=\"1\" class=\"dataframe\">\n",
       "  <thead>\n",
       "    <tr style=\"text-align: right;\">\n",
       "      <th></th>\n",
       "      <th>order_id</th>\n",
       "      <th>payment_sequential</th>\n",
       "      <th>payment_type</th>\n",
       "      <th>payment_installments</th>\n",
       "      <th>payment_value</th>\n",
       "      <th>customer_id</th>\n",
       "      <th>order_status</th>\n",
       "      <th>order_purchase_timestamp</th>\n",
       "      <th>order_approved_at</th>\n",
       "      <th>order_delivered_carrier_date</th>\n",
       "      <th>order_delivered_customer_date</th>\n",
       "      <th>order_estimated_delivery_date</th>\n",
       "      <th>review_id</th>\n",
       "      <th>review_score</th>\n",
       "      <th>review_comment_title</th>\n",
       "      <th>review_comment_message</th>\n",
       "      <th>review_creation_date</th>\n",
       "      <th>review_answer_timestamp</th>\n",
       "      <th>order_item_id</th>\n",
       "      <th>product_id</th>\n",
       "      <th>seller_id</th>\n",
       "      <th>shipping_limit_date</th>\n",
       "      <th>price</th>\n",
       "      <th>freight_value</th>\n",
       "      <th>customer_unique_id</th>\n",
       "      <th>customer_zip_code_prefix</th>\n",
       "      <th>customer_city</th>\n",
       "      <th>customer_state</th>\n",
       "      <th>product_category_name</th>\n",
       "      <th>product_name_lenght</th>\n",
       "      <th>product_description_lenght</th>\n",
       "      <th>product_photos_qty</th>\n",
       "      <th>product_weight_g</th>\n",
       "      <th>product_length_cm</th>\n",
       "      <th>product_height_cm</th>\n",
       "      <th>product_width_cm</th>\n",
       "      <th>seller_zip_code_prefix</th>\n",
       "      <th>seller_city</th>\n",
       "      <th>seller_state</th>\n",
       "      <th>geolocation_lat</th>\n",
       "      <th>geolocation_lng</th>\n",
       "      <th>geolocation_city</th>\n",
       "      <th>geolocation_state</th>\n",
       "      <th>product_category_name_english</th>\n",
       "    </tr>\n",
       "  </thead>\n",
       "  <tbody>\n",
       "    <tr>\n",
       "      <th>0</th>\n",
       "      <td>b81ef226f3fe1789b1e8b2acac839d17</td>\n",
       "      <td>1</td>\n",
       "      <td>credit_card</td>\n",
       "      <td>8</td>\n",
       "      <td>99.330002</td>\n",
       "      <td>0a8556ac6be836b46b3e89920d59291c</td>\n",
       "      <td>delivered</td>\n",
       "      <td>2018-04-25 22:01:49</td>\n",
       "      <td>2018-04-25 22:15:09</td>\n",
       "      <td>2018-05-02 15:20:00</td>\n",
       "      <td>2018-05-09 17:36:51</td>\n",
       "      <td>2018-05-22 00:00:00</td>\n",
       "      <td>4ce650e117a5b292bf5ea980a61eb61e</td>\n",
       "      <td>1</td>\n",
       "      <td>Não recomendo</td>\n",
       "      <td>Produto com qualidade ruim, amassado e descasc...</td>\n",
       "      <td>2018-05-10 00:00:00</td>\n",
       "      <td>2018-05-15 23:38:00</td>\n",
       "      <td>1</td>\n",
       "      <td>af74cc53dcffc8384b29e7abfa41902b</td>\n",
       "      <td>213b25e6f54661939f11710a6fddb871</td>\n",
       "      <td>2018-05-02 22:15:09</td>\n",
       "      <td>79.800003</td>\n",
       "      <td>19.530001</td>\n",
       "      <td>708ab75d2a007f0564aedd11139c7708</td>\n",
       "      <td>39801</td>\n",
       "      <td>teofilo otoni</td>\n",
       "      <td>MG</td>\n",
       "      <td>casa_construcao</td>\n",
       "      <td>57.0</td>\n",
       "      <td>921.0</td>\n",
       "      <td>8.0</td>\n",
       "      <td>800.0</td>\n",
       "      <td>17.0</td>\n",
       "      <td>27.0</td>\n",
       "      <td>17.0</td>\n",
       "      <td>13321.0</td>\n",
       "      <td>salto</td>\n",
       "      <td>SP</td>\n",
       "      <td>-23.190243</td>\n",
       "      <td>-47.291569</td>\n",
       "      <td>salto</td>\n",
       "      <td>SP</td>\n",
       "      <td>home_construction</td>\n",
       "    </tr>\n",
       "    <tr>\n",
       "      <th>1</th>\n",
       "      <td>b81ef226f3fe1789b1e8b2acac839d17</td>\n",
       "      <td>1</td>\n",
       "      <td>credit_card</td>\n",
       "      <td>8</td>\n",
       "      <td>99.330002</td>\n",
       "      <td>0a8556ac6be836b46b3e89920d59291c</td>\n",
       "      <td>delivered</td>\n",
       "      <td>2018-04-25 22:01:49</td>\n",
       "      <td>2018-04-25 22:15:09</td>\n",
       "      <td>2018-05-02 15:20:00</td>\n",
       "      <td>2018-05-09 17:36:51</td>\n",
       "      <td>2018-05-22 00:00:00</td>\n",
       "      <td>4ce650e117a5b292bf5ea980a61eb61e</td>\n",
       "      <td>1</td>\n",
       "      <td>Não recomendo</td>\n",
       "      <td>Produto com qualidade ruim, amassado e descasc...</td>\n",
       "      <td>2018-05-10 00:00:00</td>\n",
       "      <td>2018-05-15 23:38:00</td>\n",
       "      <td>1</td>\n",
       "      <td>af74cc53dcffc8384b29e7abfa41902b</td>\n",
       "      <td>213b25e6f54661939f11710a6fddb871</td>\n",
       "      <td>2018-05-02 22:15:09</td>\n",
       "      <td>79.800003</td>\n",
       "      <td>19.530001</td>\n",
       "      <td>708ab75d2a007f0564aedd11139c7708</td>\n",
       "      <td>39801</td>\n",
       "      <td>teofilo otoni</td>\n",
       "      <td>MG</td>\n",
       "      <td>casa_construcao</td>\n",
       "      <td>57.0</td>\n",
       "      <td>921.0</td>\n",
       "      <td>8.0</td>\n",
       "      <td>800.0</td>\n",
       "      <td>17.0</td>\n",
       "      <td>27.0</td>\n",
       "      <td>17.0</td>\n",
       "      <td>13321.0</td>\n",
       "      <td>salto</td>\n",
       "      <td>SP</td>\n",
       "      <td>-23.197674</td>\n",
       "      <td>-47.289169</td>\n",
       "      <td>salto</td>\n",
       "      <td>SP</td>\n",
       "      <td>home_construction</td>\n",
       "    </tr>\n",
       "    <tr>\n",
       "      <th>2</th>\n",
       "      <td>b81ef226f3fe1789b1e8b2acac839d17</td>\n",
       "      <td>1</td>\n",
       "      <td>credit_card</td>\n",
       "      <td>8</td>\n",
       "      <td>99.330002</td>\n",
       "      <td>0a8556ac6be836b46b3e89920d59291c</td>\n",
       "      <td>delivered</td>\n",
       "      <td>2018-04-25 22:01:49</td>\n",
       "      <td>2018-04-25 22:15:09</td>\n",
       "      <td>2018-05-02 15:20:00</td>\n",
       "      <td>2018-05-09 17:36:51</td>\n",
       "      <td>2018-05-22 00:00:00</td>\n",
       "      <td>4ce650e117a5b292bf5ea980a61eb61e</td>\n",
       "      <td>1</td>\n",
       "      <td>Não recomendo</td>\n",
       "      <td>Produto com qualidade ruim, amassado e descasc...</td>\n",
       "      <td>2018-05-10 00:00:00</td>\n",
       "      <td>2018-05-15 23:38:00</td>\n",
       "      <td>1</td>\n",
       "      <td>af74cc53dcffc8384b29e7abfa41902b</td>\n",
       "      <td>213b25e6f54661939f11710a6fddb871</td>\n",
       "      <td>2018-05-02 22:15:09</td>\n",
       "      <td>79.800003</td>\n",
       "      <td>19.530001</td>\n",
       "      <td>708ab75d2a007f0564aedd11139c7708</td>\n",
       "      <td>39801</td>\n",
       "      <td>teofilo otoni</td>\n",
       "      <td>MG</td>\n",
       "      <td>casa_construcao</td>\n",
       "      <td>57.0</td>\n",
       "      <td>921.0</td>\n",
       "      <td>8.0</td>\n",
       "      <td>800.0</td>\n",
       "      <td>17.0</td>\n",
       "      <td>27.0</td>\n",
       "      <td>17.0</td>\n",
       "      <td>13321.0</td>\n",
       "      <td>salto</td>\n",
       "      <td>SP</td>\n",
       "      <td>-23.1929</td>\n",
       "      <td>-47.290066</td>\n",
       "      <td>salto</td>\n",
       "      <td>SP</td>\n",
       "      <td>home_construction</td>\n",
       "    </tr>\n",
       "    <tr>\n",
       "      <th>3</th>\n",
       "      <td>b81ef226f3fe1789b1e8b2acac839d17</td>\n",
       "      <td>1</td>\n",
       "      <td>credit_card</td>\n",
       "      <td>8</td>\n",
       "      <td>99.330002</td>\n",
       "      <td>0a8556ac6be836b46b3e89920d59291c</td>\n",
       "      <td>delivered</td>\n",
       "      <td>2018-04-25 22:01:49</td>\n",
       "      <td>2018-04-25 22:15:09</td>\n",
       "      <td>2018-05-02 15:20:00</td>\n",
       "      <td>2018-05-09 17:36:51</td>\n",
       "      <td>2018-05-22 00:00:00</td>\n",
       "      <td>4ce650e117a5b292bf5ea980a61eb61e</td>\n",
       "      <td>1</td>\n",
       "      <td>Não recomendo</td>\n",
       "      <td>Produto com qualidade ruim, amassado e descasc...</td>\n",
       "      <td>2018-05-10 00:00:00</td>\n",
       "      <td>2018-05-15 23:38:00</td>\n",
       "      <td>1</td>\n",
       "      <td>af74cc53dcffc8384b29e7abfa41902b</td>\n",
       "      <td>213b25e6f54661939f11710a6fddb871</td>\n",
       "      <td>2018-05-02 22:15:09</td>\n",
       "      <td>79.800003</td>\n",
       "      <td>19.530001</td>\n",
       "      <td>708ab75d2a007f0564aedd11139c7708</td>\n",
       "      <td>39801</td>\n",
       "      <td>teofilo otoni</td>\n",
       "      <td>MG</td>\n",
       "      <td>casa_construcao</td>\n",
       "      <td>57.0</td>\n",
       "      <td>921.0</td>\n",
       "      <td>8.0</td>\n",
       "      <td>800.0</td>\n",
       "      <td>17.0</td>\n",
       "      <td>27.0</td>\n",
       "      <td>17.0</td>\n",
       "      <td>13321.0</td>\n",
       "      <td>salto</td>\n",
       "      <td>SP</td>\n",
       "      <td>-23.196045</td>\n",
       "      <td>-47.29789</td>\n",
       "      <td>salto</td>\n",
       "      <td>SP</td>\n",
       "      <td>home_construction</td>\n",
       "    </tr>\n",
       "    <tr>\n",
       "      <th>4</th>\n",
       "      <td>b81ef226f3fe1789b1e8b2acac839d17</td>\n",
       "      <td>1</td>\n",
       "      <td>credit_card</td>\n",
       "      <td>8</td>\n",
       "      <td>99.330002</td>\n",
       "      <td>0a8556ac6be836b46b3e89920d59291c</td>\n",
       "      <td>delivered</td>\n",
       "      <td>2018-04-25 22:01:49</td>\n",
       "      <td>2018-04-25 22:15:09</td>\n",
       "      <td>2018-05-02 15:20:00</td>\n",
       "      <td>2018-05-09 17:36:51</td>\n",
       "      <td>2018-05-22 00:00:00</td>\n",
       "      <td>4ce650e117a5b292bf5ea980a61eb61e</td>\n",
       "      <td>1</td>\n",
       "      <td>Não recomendo</td>\n",
       "      <td>Produto com qualidade ruim, amassado e descasc...</td>\n",
       "      <td>2018-05-10 00:00:00</td>\n",
       "      <td>2018-05-15 23:38:00</td>\n",
       "      <td>1</td>\n",
       "      <td>af74cc53dcffc8384b29e7abfa41902b</td>\n",
       "      <td>213b25e6f54661939f11710a6fddb871</td>\n",
       "      <td>2018-05-02 22:15:09</td>\n",
       "      <td>79.800003</td>\n",
       "      <td>19.530001</td>\n",
       "      <td>708ab75d2a007f0564aedd11139c7708</td>\n",
       "      <td>39801</td>\n",
       "      <td>teofilo otoni</td>\n",
       "      <td>MG</td>\n",
       "      <td>casa_construcao</td>\n",
       "      <td>57.0</td>\n",
       "      <td>921.0</td>\n",
       "      <td>8.0</td>\n",
       "      <td>800.0</td>\n",
       "      <td>17.0</td>\n",
       "      <td>27.0</td>\n",
       "      <td>17.0</td>\n",
       "      <td>13321.0</td>\n",
       "      <td>salto</td>\n",
       "      <td>SP</td>\n",
       "      <td>-23.186041</td>\n",
       "      <td>-47.287609</td>\n",
       "      <td>salto</td>\n",
       "      <td>SP</td>\n",
       "      <td>home_construction</td>\n",
       "    </tr>\n",
       "  </tbody>\n",
       "</table>\n",
       "</div>"
      ],
      "text/plain": [
       "                           order_id  payment_sequential payment_type  \\\n",
       "0  b81ef226f3fe1789b1e8b2acac839d17                   1  credit_card   \n",
       "1  b81ef226f3fe1789b1e8b2acac839d17                   1  credit_card   \n",
       "2  b81ef226f3fe1789b1e8b2acac839d17                   1  credit_card   \n",
       "3  b81ef226f3fe1789b1e8b2acac839d17                   1  credit_card   \n",
       "4  b81ef226f3fe1789b1e8b2acac839d17                   1  credit_card   \n",
       "\n",
       "   payment_installments  payment_value                       customer_id  \\\n",
       "0                     8      99.330002  0a8556ac6be836b46b3e89920d59291c   \n",
       "1                     8      99.330002  0a8556ac6be836b46b3e89920d59291c   \n",
       "2                     8      99.330002  0a8556ac6be836b46b3e89920d59291c   \n",
       "3                     8      99.330002  0a8556ac6be836b46b3e89920d59291c   \n",
       "4                     8      99.330002  0a8556ac6be836b46b3e89920d59291c   \n",
       "\n",
       "  order_status order_purchase_timestamp    order_approved_at  \\\n",
       "0    delivered      2018-04-25 22:01:49  2018-04-25 22:15:09   \n",
       "1    delivered      2018-04-25 22:01:49  2018-04-25 22:15:09   \n",
       "2    delivered      2018-04-25 22:01:49  2018-04-25 22:15:09   \n",
       "3    delivered      2018-04-25 22:01:49  2018-04-25 22:15:09   \n",
       "4    delivered      2018-04-25 22:01:49  2018-04-25 22:15:09   \n",
       "\n",
       "  order_delivered_carrier_date order_delivered_customer_date  \\\n",
       "0          2018-05-02 15:20:00           2018-05-09 17:36:51   \n",
       "1          2018-05-02 15:20:00           2018-05-09 17:36:51   \n",
       "2          2018-05-02 15:20:00           2018-05-09 17:36:51   \n",
       "3          2018-05-02 15:20:00           2018-05-09 17:36:51   \n",
       "4          2018-05-02 15:20:00           2018-05-09 17:36:51   \n",
       "\n",
       "  order_estimated_delivery_date                         review_id  \\\n",
       "0           2018-05-22 00:00:00  4ce650e117a5b292bf5ea980a61eb61e   \n",
       "1           2018-05-22 00:00:00  4ce650e117a5b292bf5ea980a61eb61e   \n",
       "2           2018-05-22 00:00:00  4ce650e117a5b292bf5ea980a61eb61e   \n",
       "3           2018-05-22 00:00:00  4ce650e117a5b292bf5ea980a61eb61e   \n",
       "4           2018-05-22 00:00:00  4ce650e117a5b292bf5ea980a61eb61e   \n",
       "\n",
       "   review_score review_comment_title  \\\n",
       "0             1        Não recomendo   \n",
       "1             1        Não recomendo   \n",
       "2             1        Não recomendo   \n",
       "3             1        Não recomendo   \n",
       "4             1        Não recomendo   \n",
       "\n",
       "                              review_comment_message review_creation_date  \\\n",
       "0  Produto com qualidade ruim, amassado e descasc...  2018-05-10 00:00:00   \n",
       "1  Produto com qualidade ruim, amassado e descasc...  2018-05-10 00:00:00   \n",
       "2  Produto com qualidade ruim, amassado e descasc...  2018-05-10 00:00:00   \n",
       "3  Produto com qualidade ruim, amassado e descasc...  2018-05-10 00:00:00   \n",
       "4  Produto com qualidade ruim, amassado e descasc...  2018-05-10 00:00:00   \n",
       "\n",
       "  review_answer_timestamp  order_item_id                        product_id  \\\n",
       "0     2018-05-15 23:38:00              1  af74cc53dcffc8384b29e7abfa41902b   \n",
       "1     2018-05-15 23:38:00              1  af74cc53dcffc8384b29e7abfa41902b   \n",
       "2     2018-05-15 23:38:00              1  af74cc53dcffc8384b29e7abfa41902b   \n",
       "3     2018-05-15 23:38:00              1  af74cc53dcffc8384b29e7abfa41902b   \n",
       "4     2018-05-15 23:38:00              1  af74cc53dcffc8384b29e7abfa41902b   \n",
       "\n",
       "                          seller_id  shipping_limit_date      price  \\\n",
       "0  213b25e6f54661939f11710a6fddb871  2018-05-02 22:15:09  79.800003   \n",
       "1  213b25e6f54661939f11710a6fddb871  2018-05-02 22:15:09  79.800003   \n",
       "2  213b25e6f54661939f11710a6fddb871  2018-05-02 22:15:09  79.800003   \n",
       "3  213b25e6f54661939f11710a6fddb871  2018-05-02 22:15:09  79.800003   \n",
       "4  213b25e6f54661939f11710a6fddb871  2018-05-02 22:15:09  79.800003   \n",
       "\n",
       "   freight_value                customer_unique_id  customer_zip_code_prefix  \\\n",
       "0      19.530001  708ab75d2a007f0564aedd11139c7708                     39801   \n",
       "1      19.530001  708ab75d2a007f0564aedd11139c7708                     39801   \n",
       "2      19.530001  708ab75d2a007f0564aedd11139c7708                     39801   \n",
       "3      19.530001  708ab75d2a007f0564aedd11139c7708                     39801   \n",
       "4      19.530001  708ab75d2a007f0564aedd11139c7708                     39801   \n",
       "\n",
       "   customer_city customer_state product_category_name  product_name_lenght  \\\n",
       "0  teofilo otoni             MG       casa_construcao                 57.0   \n",
       "1  teofilo otoni             MG       casa_construcao                 57.0   \n",
       "2  teofilo otoni             MG       casa_construcao                 57.0   \n",
       "3  teofilo otoni             MG       casa_construcao                 57.0   \n",
       "4  teofilo otoni             MG       casa_construcao                 57.0   \n",
       "\n",
       "   product_description_lenght  product_photos_qty  product_weight_g  \\\n",
       "0                       921.0                 8.0             800.0   \n",
       "1                       921.0                 8.0             800.0   \n",
       "2                       921.0                 8.0             800.0   \n",
       "3                       921.0                 8.0             800.0   \n",
       "4                       921.0                 8.0             800.0   \n",
       "\n",
       "   product_length_cm  product_height_cm  product_width_cm  \\\n",
       "0               17.0               27.0              17.0   \n",
       "1               17.0               27.0              17.0   \n",
       "2               17.0               27.0              17.0   \n",
       "3               17.0               27.0              17.0   \n",
       "4               17.0               27.0              17.0   \n",
       "\n",
       "   seller_zip_code_prefix seller_city seller_state  geolocation_lat  \\\n",
       "0                 13321.0       salto           SP       -23.190243   \n",
       "1                 13321.0       salto           SP       -23.197674   \n",
       "2                 13321.0       salto           SP         -23.1929   \n",
       "3                 13321.0       salto           SP       -23.196045   \n",
       "4                 13321.0       salto           SP       -23.186041   \n",
       "\n",
       "   geolocation_lng geolocation_city geolocation_state  \\\n",
       "0       -47.291569            salto                SP   \n",
       "1       -47.289169            salto                SP   \n",
       "2       -47.290066            salto                SP   \n",
       "3        -47.29789            salto                SP   \n",
       "4       -47.287609            salto                SP   \n",
       "\n",
       "  product_category_name_english  \n",
       "0             home_construction  \n",
       "1             home_construction  \n",
       "2             home_construction  \n",
       "3             home_construction  \n",
       "4             home_construction  "
      ]
     },
     "execution_count": 17,
     "metadata": {},
     "output_type": "execute_result"
    }
   ],
   "source": [
    "print(df.shape)\n",
    "pd.set_option('display.max_columns', 45)\n",
    "df.head()"
   ]
  },
  {
   "cell_type": "code",
   "execution_count": 18,
   "id": "b02933e3",
   "metadata": {},
   "outputs": [
    {
     "data": {
      "text/html": [
       "<div>\n",
       "<style scoped>\n",
       "    .dataframe tbody tr th:only-of-type {\n",
       "        vertical-align: middle;\n",
       "    }\n",
       "\n",
       "    .dataframe tbody tr th {\n",
       "        vertical-align: top;\n",
       "    }\n",
       "\n",
       "    .dataframe thead th {\n",
       "        text-align: right;\n",
       "    }\n",
       "</style>\n",
       "<table border=\"1\" class=\"dataframe\">\n",
       "  <thead>\n",
       "    <tr style=\"text-align: right;\">\n",
       "      <th></th>\n",
       "      <th>payment_sequential</th>\n",
       "      <th>payment_installments</th>\n",
       "      <th>payment_value</th>\n",
       "      <th>review_score</th>\n",
       "      <th>order_item_id</th>\n",
       "      <th>price</th>\n",
       "      <th>freight_value</th>\n",
       "      <th>customer_zip_code_prefix</th>\n",
       "      <th>product_name_lenght</th>\n",
       "      <th>product_description_lenght</th>\n",
       "      <th>product_photos_qty</th>\n",
       "      <th>product_weight_g</th>\n",
       "      <th>product_length_cm</th>\n",
       "      <th>product_height_cm</th>\n",
       "      <th>product_width_cm</th>\n",
       "      <th>seller_zip_code_prefix</th>\n",
       "      <th>geolocation_lat</th>\n",
       "      <th>geolocation_lng</th>\n",
       "    </tr>\n",
       "  </thead>\n",
       "  <tbody>\n",
       "    <tr>\n",
       "      <th>count</th>\n",
       "      <td>17093918.0</td>\n",
       "      <td>17093918.0</td>\n",
       "      <td>17093918.0</td>\n",
       "      <td>16952032.0</td>\n",
       "      <td>17093085.0</td>\n",
       "      <td>17093085.0</td>\n",
       "      <td>17093085.0</td>\n",
       "      <td>17093918.00</td>\n",
       "      <td>16852992.0</td>\n",
       "      <td>16852992.0</td>\n",
       "      <td>16852992.0</td>\n",
       "      <td>17089992.0</td>\n",
       "      <td>17089992.0</td>\n",
       "      <td>17089992.0</td>\n",
       "      <td>17089992.0</td>\n",
       "      <td>17093085.00</td>\n",
       "      <td>17092820.0</td>\n",
       "      <td>17092820.0</td>\n",
       "    </tr>\n",
       "    <tr>\n",
       "      <th>mean</th>\n",
       "      <td>1.09</td>\n",
       "      <td>2.99</td>\n",
       "      <td>170.06</td>\n",
       "      <td>4.03</td>\n",
       "      <td>1.2</td>\n",
       "      <td>118.23</td>\n",
       "      <td>19.93</td>\n",
       "      <td>34548.18</td>\n",
       "      <td>48.98</td>\n",
       "      <td>748.6</td>\n",
       "      <td>2.06</td>\n",
       "      <td>2045.42</td>\n",
       "      <td>30.29</td>\n",
       "      <td>16.57</td>\n",
       "      <td>23.55</td>\n",
       "      <td>26368.89</td>\n",
       "      <td>-22.63</td>\n",
       "      <td>-47.35</td>\n",
       "    </tr>\n",
       "    <tr>\n",
       "      <th>std</th>\n",
       "      <td>0.72</td>\n",
       "      <td>2.8</td>\n",
       "      <td>236.1</td>\n",
       "      <td>1.39</td>\n",
       "      <td>0.68</td>\n",
       "      <td>174.25</td>\n",
       "      <td>15.15</td>\n",
       "      <td>29625.70</td>\n",
       "      <td>10.1</td>\n",
       "      <td>670.58</td>\n",
       "      <td>1.58</td>\n",
       "      <td>3738.33</td>\n",
       "      <td>15.68</td>\n",
       "      <td>13.31</td>\n",
       "      <td>11.48</td>\n",
       "      <td>25989.19</td>\n",
       "      <td>2.42</td>\n",
       "      <td>2.31</td>\n",
       "    </tr>\n",
       "    <tr>\n",
       "      <th>min</th>\n",
       "      <td>1.0</td>\n",
       "      <td>0.0</td>\n",
       "      <td>0.0</td>\n",
       "      <td>1.0</td>\n",
       "      <td>1.0</td>\n",
       "      <td>0.85</td>\n",
       "      <td>0.0</td>\n",
       "      <td>1003.00</td>\n",
       "      <td>5.0</td>\n",
       "      <td>4.0</td>\n",
       "      <td>1.0</td>\n",
       "      <td>0.0</td>\n",
       "      <td>7.0</td>\n",
       "      <td>2.0</td>\n",
       "      <td>6.0</td>\n",
       "      <td>1001.00</td>\n",
       "      <td>-36.61</td>\n",
       "      <td>-67.88</td>\n",
       "    </tr>\n",
       "    <tr>\n",
       "      <th>25%</th>\n",
       "      <td>1.0</td>\n",
       "      <td>1.0</td>\n",
       "      <td>61.87</td>\n",
       "      <td>4.0</td>\n",
       "      <td>1.0</td>\n",
       "      <td>40.0</td>\n",
       "      <td>13.37</td>\n",
       "      <td>11075.00</td>\n",
       "      <td>43.0</td>\n",
       "      <td>319.0</td>\n",
       "      <td>1.0</td>\n",
       "      <td>300.0</td>\n",
       "      <td>18.0</td>\n",
       "      <td>9.0</td>\n",
       "      <td>15.0</td>\n",
       "      <td>12243.00</td>\n",
       "      <td>-23.57</td>\n",
       "      <td>-48.83</td>\n",
       "    </tr>\n",
       "    <tr>\n",
       "      <th>50%</th>\n",
       "      <td>1.0</td>\n",
       "      <td>2.0</td>\n",
       "      <td>108.0</td>\n",
       "      <td>5.0</td>\n",
       "      <td>1.0</td>\n",
       "      <td>74.8</td>\n",
       "      <td>16.32</td>\n",
       "      <td>24030.00</td>\n",
       "      <td>52.0</td>\n",
       "      <td>536.0</td>\n",
       "      <td>1.0</td>\n",
       "      <td>700.0</td>\n",
       "      <td>25.0</td>\n",
       "      <td>13.0</td>\n",
       "      <td>20.0</td>\n",
       "      <td>14940.00</td>\n",
       "      <td>-22.83</td>\n",
       "      <td>-47.21</td>\n",
       "    </tr>\n",
       "    <tr>\n",
       "      <th>75%</th>\n",
       "      <td>1.0</td>\n",
       "      <td>4.0</td>\n",
       "      <td>189.01</td>\n",
       "      <td>5.0</td>\n",
       "      <td>1.0</td>\n",
       "      <td>129.99</td>\n",
       "      <td>20.99</td>\n",
       "      <td>56780.00</td>\n",
       "      <td>57.0</td>\n",
       "      <td>929.0</td>\n",
       "      <td>3.0</td>\n",
       "      <td>1700.0</td>\n",
       "      <td>38.0</td>\n",
       "      <td>20.0</td>\n",
       "      <td>30.0</td>\n",
       "      <td>31255.00</td>\n",
       "      <td>-21.75</td>\n",
       "      <td>-46.46</td>\n",
       "    </tr>\n",
       "    <tr>\n",
       "      <th>max</th>\n",
       "      <td>29.0</td>\n",
       "      <td>24.0</td>\n",
       "      <td>13664.08</td>\n",
       "      <td>5.0</td>\n",
       "      <td>21.0</td>\n",
       "      <td>6735.0</td>\n",
       "      <td>409.68</td>\n",
       "      <td>99990.00</td>\n",
       "      <td>76.0</td>\n",
       "      <td>3992.0</td>\n",
       "      <td>20.0</td>\n",
       "      <td>40425.0</td>\n",
       "      <td>105.0</td>\n",
       "      <td>105.0</td>\n",
       "      <td>118.0</td>\n",
       "      <td>99730.00</td>\n",
       "      <td>-2.48</td>\n",
       "      <td>-34.85</td>\n",
       "    </tr>\n",
       "  </tbody>\n",
       "</table>\n",
       "</div>"
      ],
      "text/plain": [
       "       payment_sequential  payment_installments  payment_value  review_score  \\\n",
       "count          17093918.0            17093918.0     17093918.0    16952032.0   \n",
       "mean                 1.09                  2.99         170.06          4.03   \n",
       "std                  0.72                   2.8          236.1          1.39   \n",
       "min                   1.0                   0.0            0.0           1.0   \n",
       "25%                   1.0                   1.0          61.87           4.0   \n",
       "50%                   1.0                   2.0          108.0           5.0   \n",
       "75%                   1.0                   4.0         189.01           5.0   \n",
       "max                  29.0                  24.0       13664.08           5.0   \n",
       "\n",
       "       order_item_id       price  freight_value  customer_zip_code_prefix  \\\n",
       "count     17093085.0  17093085.0     17093085.0               17093918.00   \n",
       "mean             1.2      118.23          19.93                  34548.18   \n",
       "std             0.68      174.25          15.15                  29625.70   \n",
       "min              1.0        0.85            0.0                   1003.00   \n",
       "25%              1.0        40.0          13.37                  11075.00   \n",
       "50%              1.0        74.8          16.32                  24030.00   \n",
       "75%              1.0      129.99          20.99                  56780.00   \n",
       "max             21.0      6735.0         409.68                  99990.00   \n",
       "\n",
       "       product_name_lenght  product_description_lenght  product_photos_qty  \\\n",
       "count           16852992.0                  16852992.0          16852992.0   \n",
       "mean                 48.98                       748.6                2.06   \n",
       "std                   10.1                      670.58                1.58   \n",
       "min                    5.0                         4.0                 1.0   \n",
       "25%                   43.0                       319.0                 1.0   \n",
       "50%                   52.0                       536.0                 1.0   \n",
       "75%                   57.0                       929.0                 3.0   \n",
       "max                   76.0                      3992.0                20.0   \n",
       "\n",
       "       product_weight_g  product_length_cm  product_height_cm  \\\n",
       "count        17089992.0         17089992.0         17089992.0   \n",
       "mean            2045.42              30.29              16.57   \n",
       "std             3738.33              15.68              13.31   \n",
       "min                 0.0                7.0                2.0   \n",
       "25%               300.0               18.0                9.0   \n",
       "50%               700.0               25.0               13.0   \n",
       "75%              1700.0               38.0               20.0   \n",
       "max             40425.0              105.0              105.0   \n",
       "\n",
       "       product_width_cm  seller_zip_code_prefix  geolocation_lat  \\\n",
       "count        17089992.0             17093085.00       17092820.0   \n",
       "mean              23.55                26368.89           -22.63   \n",
       "std               11.48                25989.19             2.42   \n",
       "min                 6.0                 1001.00           -36.61   \n",
       "25%                15.0                12243.00           -23.57   \n",
       "50%                20.0                14940.00           -22.83   \n",
       "75%                30.0                31255.00           -21.75   \n",
       "max               118.0                99730.00            -2.48   \n",
       "\n",
       "       geolocation_lng  \n",
       "count       17092820.0  \n",
       "mean            -47.35  \n",
       "std               2.31  \n",
       "min             -67.88  \n",
       "25%             -48.83  \n",
       "50%             -47.21  \n",
       "75%             -46.46  \n",
       "max             -34.85  "
      ]
     },
     "execution_count": 18,
     "metadata": {},
     "output_type": "execute_result"
    }
   ],
   "source": [
    "df.describe().round(2)"
   ]
  },
  {
   "cell_type": "code",
   "execution_count": 19,
   "id": "d047a41a",
   "metadata": {
    "scrolled": true
   },
   "outputs": [
    {
     "data": {
      "text/plain": [
       "order_id                          object\n",
       "payment_sequential                  Int8\n",
       "payment_type                      object\n",
       "payment_installments                Int8\n",
       "payment_value                    Float32\n",
       "customer_id                       object\n",
       "order_status                      object\n",
       "order_purchase_timestamp          object\n",
       "order_approved_at                 object\n",
       "order_delivered_carrier_date      object\n",
       "order_delivered_customer_date     object\n",
       "order_estimated_delivery_date     object\n",
       "review_id                         object\n",
       "review_score                        Int8\n",
       "review_comment_title              object\n",
       "review_comment_message            object\n",
       "review_creation_date              object\n",
       "review_answer_timestamp           object\n",
       "order_item_id                       Int8\n",
       "product_id                        object\n",
       "seller_id                         object\n",
       "shipping_limit_date               object\n",
       "price                            Float32\n",
       "freight_value                    Float32\n",
       "customer_unique_id                object\n",
       "customer_zip_code_prefix           int64\n",
       "customer_city                     object\n",
       "customer_state                    object\n",
       "product_category_name             object\n",
       "product_name_lenght              Float32\n",
       "product_description_lenght       Float32\n",
       "product_photos_qty               Float32\n",
       "product_weight_g                 Float32\n",
       "product_length_cm                Float32\n",
       "product_height_cm                Float32\n",
       "product_width_cm                 Float32\n",
       "seller_zip_code_prefix           float64\n",
       "seller_city                       object\n",
       "seller_state                      object\n",
       "geolocation_lat                  Float32\n",
       "geolocation_lng                  Float32\n",
       "geolocation_city                  object\n",
       "geolocation_state                 object\n",
       "product_category_name_english     object\n",
       "dtype: object"
      ]
     },
     "execution_count": 19,
     "metadata": {},
     "output_type": "execute_result"
    }
   ],
   "source": [
    "df.dtypes"
   ]
  },
  {
   "cell_type": "code",
   "execution_count": 20,
   "id": "1f81a143",
   "metadata": {},
   "outputs": [
    {
     "data": {
      "text/plain": [
       "Index(['order_id', 'payment_sequential', 'payment_type',\n",
       "       'payment_installments', 'payment_value', 'customer_id', 'order_status',\n",
       "       'order_purchase_timestamp', 'order_approved_at',\n",
       "       'order_delivered_carrier_date', 'order_delivered_customer_date',\n",
       "       'order_estimated_delivery_date', 'review_id', 'review_score',\n",
       "       'review_comment_title', 'review_comment_message',\n",
       "       'review_creation_date', 'review_answer_timestamp', 'order_item_id',\n",
       "       'product_id', 'seller_id', 'shipping_limit_date', 'price',\n",
       "       'freight_value', 'customer_unique_id', 'customer_zip_code_prefix',\n",
       "       'customer_city', 'customer_state', 'product_category_name',\n",
       "       'product_name_lenght', 'product_description_lenght',\n",
       "       'product_photos_qty', 'product_weight_g', 'product_length_cm',\n",
       "       'product_height_cm', 'product_width_cm', 'seller_zip_code_prefix',\n",
       "       'seller_city', 'seller_state', 'geolocation_lat', 'geolocation_lng',\n",
       "       'geolocation_city', 'geolocation_state',\n",
       "       'product_category_name_english'],\n",
       "      dtype='object')"
      ]
     },
     "execution_count": 20,
     "metadata": {},
     "output_type": "execute_result"
    }
   ],
   "source": [
    "df.columns"
   ]
  },
  {
   "cell_type": "raw",
   "id": "525a0634",
   "metadata": {},
   "source": [
    "df.rename(columns={\"product_name_lenght_x\": \"product_name_lenght\",\n",
    "                  \"product_description_lenght_x\": \"product_description_lenght\",\n",
    "                  \"product_photos_qty_x\": \"product_photos_qty\",\n",
    "                  \"product_weight_g_x\": \"product_weight_g\",\n",
    "                  \"product_length_cm_x\": \"product_length_cm\",\n",
    "                  \"product_height_cm_x\": \"product_height_cm\",\n",
    "                  \"product_width_cm_x\": \"product_width_cm\"}, inplace = True)\n",
    "df.drop([\"product_name_lenght_y\", \n",
    "        \"product_description_lenght_y\",\n",
    "        \"product_photos_qty_y\",\n",
    "        \"product_weight_g_y\",\n",
    "        \"product_length_cm_y\",\n",
    "        \"product_height_cm_y\",\n",
    "        \"product_width_cm_y\",\n",
    "        \"product_category_name_y\"], axis = 1, inplace = True)"
   ]
  },
  {
   "cell_type": "markdown",
   "id": "3d881762",
   "metadata": {},
   "source": [
    "## <center>EDA</center>"
   ]
  },
  {
   "cell_type": "code",
   "execution_count": 21,
   "id": "fc64d9df",
   "metadata": {},
   "outputs": [
    {
     "data": {
      "text/plain": [
       "(17093918, 44)"
      ]
     },
     "execution_count": 21,
     "metadata": {},
     "output_type": "execute_result"
    }
   ],
   "source": [
    "df.shape"
   ]
  },
  {
   "cell_type": "markdown",
   "id": "04de7b62",
   "metadata": {},
   "source": [
    "***"
   ]
  },
  {
   "cell_type": "markdown",
   "id": "a7b2131e",
   "metadata": {},
   "source": [
    "### Duplicated Rows"
   ]
  },
  {
   "cell_type": "code",
   "execution_count": 22,
   "id": "32b3aef0",
   "metadata": {},
   "outputs": [
    {
     "data": {
      "text/plain": [
       "4211246"
      ]
     },
     "execution_count": 22,
     "metadata": {},
     "output_type": "execute_result"
    }
   ],
   "source": [
    "df.duplicated().sum()"
   ]
  },
  {
   "cell_type": "code",
   "execution_count": 23,
   "id": "c18d6220",
   "metadata": {},
   "outputs": [],
   "source": [
    "df.drop_duplicates(inplace = True)"
   ]
  },
  {
   "cell_type": "code",
   "execution_count": 24,
   "id": "6acb35ce",
   "metadata": {},
   "outputs": [
    {
     "data": {
      "text/plain": [
       "0"
      ]
     },
     "execution_count": 24,
     "metadata": {},
     "output_type": "execute_result"
    }
   ],
   "source": [
    "df.duplicated().sum()"
   ]
  },
  {
   "cell_type": "markdown",
   "id": "fbc01bb0",
   "metadata": {},
   "source": [
    "***"
   ]
  },
  {
   "cell_type": "markdown",
   "id": "86ede392",
   "metadata": {},
   "source": [
    "### Missing Values"
   ]
  },
  {
   "cell_type": "code",
   "execution_count": 25,
   "id": "2c4ef239",
   "metadata": {},
   "outputs": [
    {
     "data": {
      "text/plain": [
       "order_id                          0.000000\n",
       "payment_sequential                0.000000\n",
       "payment_type                      0.000000\n",
       "payment_installments              0.000000\n",
       "payment_value                     0.000000\n",
       "customer_id                       0.000000\n",
       "order_status                      0.000000\n",
       "order_purchase_timestamp          0.000000\n",
       "order_approved_at                 0.014485\n",
       "order_delivered_carrier_date      0.996936\n",
       "order_delivered_customer_date     2.103352\n",
       "order_estimated_delivery_date     0.000000\n",
       "review_id                         0.842387\n",
       "review_score                      0.842387\n",
       "review_comment_title             88.827023\n",
       "review_comment_message           57.670156\n",
       "review_creation_date              0.842387\n",
       "review_answer_timestamp           0.842387\n",
       "order_item_id                     0.006466\n",
       "product_id                        0.006466\n",
       "seller_id                         0.006466\n",
       "shipping_limit_date               0.006466\n",
       "price                             0.006466\n",
       "freight_value                     0.006466\n",
       "customer_unique_id                0.000000\n",
       "customer_zip_code_prefix          0.000000\n",
       "customer_city                     0.000000\n",
       "customer_state                    0.000000\n",
       "product_category_name             1.436977\n",
       "product_name_lenght               1.436977\n",
       "product_description_lenght        1.436977\n",
       "product_photos_qty                1.436977\n",
       "product_weight_g                  0.023799\n",
       "product_length_cm                 0.023799\n",
       "product_height_cm                 0.023799\n",
       "product_width_cm                  0.023799\n",
       "seller_zip_code_prefix            0.006466\n",
       "seller_city                       0.006466\n",
       "seller_state                      0.006466\n",
       "geolocation_lat                   0.008523\n",
       "geolocation_lng                   0.008523\n",
       "geolocation_city                  0.008523\n",
       "geolocation_state                 0.008523\n",
       "product_category_name_english     1.461102\n",
       "dtype: float64"
      ]
     },
     "execution_count": 25,
     "metadata": {},
     "output_type": "execute_result"
    }
   ],
   "source": [
    "df.isnull().sum()*100/len(df)"
   ]
  },
  {
   "cell_type": "markdown",
   "id": "d0ee056e",
   "metadata": {},
   "source": [
    "The features \"review_comment_title\" and \"review_comment_message\" have too much missing values.\n",
    "\n",
    "They are about title and comments, I will drop theses features."
   ]
  },
  {
   "cell_type": "code",
   "execution_count": 26,
   "id": "12db0552",
   "metadata": {},
   "outputs": [],
   "source": [
    "df.drop([\"review_comment_title\", \"review_comment_message\"], axis = 1, inplace = True)"
   ]
  },
  {
   "cell_type": "markdown",
   "id": "86d36e1e",
   "metadata": {},
   "source": [
    "For the other features with missing values, the amount is very low, I will drop the rows concerned."
   ]
  },
  {
   "cell_type": "code",
   "execution_count": 27,
   "id": "fbb5fa22",
   "metadata": {},
   "outputs": [],
   "source": [
    "df.dropna(inplace = True)"
   ]
  },
  {
   "cell_type": "code",
   "execution_count": 28,
   "id": "21a68a48",
   "metadata": {},
   "outputs": [
    {
     "data": {
      "text/plain": [
       "order_id                         0.0\n",
       "payment_sequential               0.0\n",
       "payment_type                     0.0\n",
       "payment_installments             0.0\n",
       "payment_value                    0.0\n",
       "customer_id                      0.0\n",
       "order_status                     0.0\n",
       "order_purchase_timestamp         0.0\n",
       "order_approved_at                0.0\n",
       "order_delivered_carrier_date     0.0\n",
       "order_delivered_customer_date    0.0\n",
       "order_estimated_delivery_date    0.0\n",
       "review_id                        0.0\n",
       "review_score                     0.0\n",
       "review_creation_date             0.0\n",
       "review_answer_timestamp          0.0\n",
       "order_item_id                    0.0\n",
       "product_id                       0.0\n",
       "seller_id                        0.0\n",
       "shipping_limit_date              0.0\n",
       "price                            0.0\n",
       "freight_value                    0.0\n",
       "customer_unique_id               0.0\n",
       "customer_zip_code_prefix         0.0\n",
       "customer_city                    0.0\n",
       "customer_state                   0.0\n",
       "product_category_name            0.0\n",
       "product_name_lenght              0.0\n",
       "product_description_lenght       0.0\n",
       "product_photos_qty               0.0\n",
       "product_weight_g                 0.0\n",
       "product_length_cm                0.0\n",
       "product_height_cm                0.0\n",
       "product_width_cm                 0.0\n",
       "seller_zip_code_prefix           0.0\n",
       "seller_city                      0.0\n",
       "seller_state                     0.0\n",
       "geolocation_lat                  0.0\n",
       "geolocation_lng                  0.0\n",
       "geolocation_city                 0.0\n",
       "geolocation_state                0.0\n",
       "product_category_name_english    0.0\n",
       "dtype: float64"
      ]
     },
     "execution_count": 28,
     "metadata": {},
     "output_type": "execute_result"
    }
   ],
   "source": [
    "df.isnull().sum()*100/len(df)"
   ]
  },
  {
   "cell_type": "markdown",
   "id": "e4360160",
   "metadata": {},
   "source": [
    "***"
   ]
  },
  {
   "cell_type": "markdown",
   "id": "29aa531c",
   "metadata": {},
   "source": [
    "### Comparer the order_id / the customer_id / the product_id / the seller_id"
   ]
  },
  {
   "cell_type": "code",
   "execution_count": 29,
   "id": "99e96c76",
   "metadata": {},
   "outputs": [
    {
     "data": {
      "text/plain": [
       "Index(['order_id', 'payment_sequential', 'payment_type',\n",
       "       'payment_installments', 'payment_value', 'customer_id', 'order_status',\n",
       "       'order_purchase_timestamp', 'order_approved_at',\n",
       "       'order_delivered_carrier_date', 'order_delivered_customer_date',\n",
       "       'order_estimated_delivery_date', 'review_id', 'review_score',\n",
       "       'review_creation_date', 'review_answer_timestamp', 'order_item_id',\n",
       "       'product_id', 'seller_id', 'shipping_limit_date', 'price',\n",
       "       'freight_value', 'customer_unique_id', 'customer_zip_code_prefix',\n",
       "       'customer_city', 'customer_state', 'product_category_name',\n",
       "       'product_name_lenght', 'product_description_lenght',\n",
       "       'product_photos_qty', 'product_weight_g', 'product_length_cm',\n",
       "       'product_height_cm', 'product_width_cm', 'seller_zip_code_prefix',\n",
       "       'seller_city', 'seller_state', 'geolocation_lat', 'geolocation_lng',\n",
       "       'geolocation_city', 'geolocation_state',\n",
       "       'product_category_name_english'],\n",
       "      dtype='object')"
      ]
     },
     "execution_count": 29,
     "metadata": {},
     "output_type": "execute_result"
    }
   ],
   "source": [
    "df.columns"
   ]
  },
  {
   "cell_type": "code",
   "execution_count": 30,
   "id": "cfedc00b",
   "metadata": {},
   "outputs": [],
   "source": [
    "#print(df[\"order_id\"].value_counts())\n",
    "#print(df[\"customer_id\"].value_counts())\n",
    "#print(df[\"product_id\"].value_counts())\n",
    "#print(df[\"seller_id\"].value_counts())"
   ]
  },
  {
   "cell_type": "code",
   "execution_count": 31,
   "id": "cc1eed93",
   "metadata": {},
   "outputs": [],
   "source": [
    "from sklearn.preprocessing import LabelEncoder\n",
    "le = LabelEncoder()\n",
    "df[\"order_id\"] = le.fit_transform(df[\"order_id\"])\n",
    "df[\"customer_id\"] = le.fit_transform(df[\"customer_id\"])\n",
    "df[\"customer_unique_id\"] = le.fit_transform(df[\"customer_unique_id\"])\n",
    "df[\"product_id\"] = le.fit_transform(df[\"product_id\"])\n",
    "df[\"seller_id\"] = le.fit_transform(df[\"seller_id\"])"
   ]
  },
  {
   "cell_type": "code",
   "execution_count": 32,
   "id": "3871cc82",
   "metadata": {},
   "outputs": [],
   "source": [
    "#print(df[\"order_id\"].value_counts())\n",
    "#print(df[\"customer_id\"].value_counts())\n",
    "#print(df[\"product_id\"].value_counts())\n",
    "#print(df[\"seller_id\"].value_counts())"
   ]
  },
  {
   "cell_type": "code",
   "execution_count": 33,
   "id": "c2370c05",
   "metadata": {},
   "outputs": [
    {
     "data": {
      "text/html": [
       "<div>\n",
       "<style scoped>\n",
       "    .dataframe tbody tr th:only-of-type {\n",
       "        vertical-align: middle;\n",
       "    }\n",
       "\n",
       "    .dataframe tbody tr th {\n",
       "        vertical-align: top;\n",
       "    }\n",
       "\n",
       "    .dataframe thead th {\n",
       "        text-align: right;\n",
       "    }\n",
       "</style>\n",
       "<table border=\"1\" class=\"dataframe\">\n",
       "  <thead>\n",
       "    <tr style=\"text-align: right;\">\n",
       "      <th></th>\n",
       "      <th>order_id</th>\n",
       "      <th>customer_id</th>\n",
       "      <th>customer_unique_id</th>\n",
       "      <th>product_id</th>\n",
       "      <th>seller_id</th>\n",
       "    </tr>\n",
       "  </thead>\n",
       "  <tbody>\n",
       "    <tr>\n",
       "      <th>count</th>\n",
       "      <td>12332907.00</td>\n",
       "      <td>12332907.00</td>\n",
       "      <td>12332907.00</td>\n",
       "      <td>12332907.00</td>\n",
       "      <td>12332907.00</td>\n",
       "    </tr>\n",
       "    <tr>\n",
       "      <th>mean</th>\n",
       "      <td>46931.90</td>\n",
       "      <td>46983.95</td>\n",
       "      <td>45832.77</td>\n",
       "      <td>15460.02</td>\n",
       "      <td>1360.86</td>\n",
       "    </tr>\n",
       "    <tr>\n",
       "      <th>std</th>\n",
       "      <td>27263.39</td>\n",
       "      <td>27259.54</td>\n",
       "      <td>26323.51</td>\n",
       "      <td>9023.25</td>\n",
       "      <td>850.96</td>\n",
       "    </tr>\n",
       "    <tr>\n",
       "      <th>min</th>\n",
       "      <td>0.00</td>\n",
       "      <td>0.00</td>\n",
       "      <td>0.00</td>\n",
       "      <td>0.00</td>\n",
       "      <td>0.00</td>\n",
       "    </tr>\n",
       "    <tr>\n",
       "      <th>25%</th>\n",
       "      <td>23253.00</td>\n",
       "      <td>23368.00</td>\n",
       "      <td>23059.00</td>\n",
       "      <td>7814.00</td>\n",
       "      <td>633.00</td>\n",
       "    </tr>\n",
       "    <tr>\n",
       "      <th>50%</th>\n",
       "      <td>46680.00</td>\n",
       "      <td>46885.00</td>\n",
       "      <td>45848.00</td>\n",
       "      <td>15153.00</td>\n",
       "      <td>1300.00</td>\n",
       "    </tr>\n",
       "    <tr>\n",
       "      <th>75%</th>\n",
       "      <td>70580.00</td>\n",
       "      <td>70574.00</td>\n",
       "      <td>68749.00</td>\n",
       "      <td>23199.00</td>\n",
       "      <td>2243.00</td>\n",
       "    </tr>\n",
       "    <tr>\n",
       "      <th>max</th>\n",
       "      <td>94258.00</td>\n",
       "      <td>94258.00</td>\n",
       "      <td>91265.00</td>\n",
       "      <td>31412.00</td>\n",
       "      <td>2899.00</td>\n",
       "    </tr>\n",
       "  </tbody>\n",
       "</table>\n",
       "</div>"
      ],
      "text/plain": [
       "          order_id  customer_id  customer_unique_id   product_id    seller_id\n",
       "count  12332907.00  12332907.00         12332907.00  12332907.00  12332907.00\n",
       "mean      46931.90     46983.95            45832.77     15460.02      1360.86\n",
       "std       27263.39     27259.54            26323.51      9023.25       850.96\n",
       "min           0.00         0.00                0.00         0.00         0.00\n",
       "25%       23253.00     23368.00            23059.00      7814.00       633.00\n",
       "50%       46680.00     46885.00            45848.00     15153.00      1300.00\n",
       "75%       70580.00     70574.00            68749.00     23199.00      2243.00\n",
       "max       94258.00     94258.00            91265.00     31412.00      2899.00"
      ]
     },
     "execution_count": 33,
     "metadata": {},
     "output_type": "execute_result"
    }
   ],
   "source": [
    "df[[\"order_id\", \"customer_id\", \"customer_unique_id\", \"product_id\", \"seller_id\"]].describe().round(2)"
   ]
  },
  {
   "cell_type": "code",
   "execution_count": 34,
   "id": "fcd020f0",
   "metadata": {},
   "outputs": [
    {
     "data": {
      "text/plain": [
       "12238648"
      ]
     },
     "execution_count": 34,
     "metadata": {},
     "output_type": "execute_result"
    }
   ],
   "source": [
    "df[\"order_id\"].duplicated().sum()"
   ]
  },
  {
   "cell_type": "code",
   "execution_count": 35,
   "id": "e54e4299",
   "metadata": {},
   "outputs": [
    {
     "data": {
      "text/plain": [
       "12238648"
      ]
     },
     "execution_count": 35,
     "metadata": {},
     "output_type": "execute_result"
    }
   ],
   "source": [
    "df[\"customer_id\"].duplicated().sum()"
   ]
  },
  {
   "cell_type": "code",
   "execution_count": 36,
   "id": "e5c00162",
   "metadata": {},
   "outputs": [
    {
     "data": {
      "text/plain": [
       "12241641"
      ]
     },
     "execution_count": 36,
     "metadata": {},
     "output_type": "execute_result"
    }
   ],
   "source": [
    "df[\"customer_unique_id\"].duplicated().sum()"
   ]
  },
  {
   "cell_type": "code",
   "execution_count": 37,
   "id": "b0dd2584",
   "metadata": {},
   "outputs": [
    {
     "data": {
      "text/plain": [
       "12330007"
      ]
     },
     "execution_count": 37,
     "metadata": {},
     "output_type": "execute_result"
    }
   ],
   "source": [
    "df[\"seller_id\"].duplicated().sum()"
   ]
  },
  {
   "cell_type": "code",
   "execution_count": 38,
   "id": "e1f4594e",
   "metadata": {},
   "outputs": [
    {
     "data": {
      "text/plain": [
       "12301494"
      ]
     },
     "execution_count": 38,
     "metadata": {},
     "output_type": "execute_result"
    }
   ],
   "source": [
    "df[\"product_id\"].duplicated().sum()"
   ]
  },
  {
   "cell_type": "markdown",
   "id": "2930bd91",
   "metadata": {},
   "source": [
    "There are the same amount of order_id than the amount of customer_id.\n",
    "\n",
    "    If a customer make an order it create a new order_id each time the customer order. But we can found a same customer_id for different order_id.\n",
    "    BUT ATTENTION there are a customer_id related to the order_id (key to the orders dataset. Each order has a unique customer_id.) AND there are a customer_unique_id which is the unique customer_id. So, a customer will have a unique_customer_id like we have a unique social security number, and also a customer_id related to the order made, and so, at each order the customer get a new customer_id.\n",
    "    \n",
    "    There are a lower amount of customer_unique_id (91265) than the amount of customer_id (94258), the majority of the order are made by differents customer and so, a few numbers of customer made sereval orders.\n",
    "\n",
    "    We also can see that there duplicated (the same amount) of order_id and customer_id, because there are different product_id for each product, we can find duplicated of order_id and customer_id, indeed a customer in a same order can order different product.\n",
    "\n",
    "There are different amount of product_id, seller_id.\n",
    "\n",
    "    We can find the same product in different order. And a same product can be order multiple time in the same order.\n",
    "    \n",
    "    And the seller_id and the product_id are related, we can find the same seller_id multiple time in the same order or in different order."
   ]
  },
  {
   "cell_type": "markdown",
   "id": "9dfba233",
   "metadata": {},
   "source": [
    "***"
   ]
  },
  {
   "cell_type": "markdown",
   "id": "502beee2",
   "metadata": {},
   "source": [
    "### The differents types of product"
   ]
  },
  {
   "cell_type": "code",
   "execution_count": 39,
   "id": "09ea214c",
   "metadata": {},
   "outputs": [
    {
     "data": {
      "text/html": [
       "<div>\n",
       "<style scoped>\n",
       "    .dataframe tbody tr th:only-of-type {\n",
       "        vertical-align: middle;\n",
       "    }\n",
       "\n",
       "    .dataframe tbody tr th {\n",
       "        vertical-align: top;\n",
       "    }\n",
       "\n",
       "    .dataframe thead th {\n",
       "        text-align: right;\n",
       "    }\n",
       "</style>\n",
       "<table border=\"1\" class=\"dataframe\">\n",
       "  <thead>\n",
       "    <tr style=\"text-align: right;\">\n",
       "      <th></th>\n",
       "      <th>order_id</th>\n",
       "      <th>payment_sequential</th>\n",
       "      <th>payment_type</th>\n",
       "      <th>payment_installments</th>\n",
       "      <th>payment_value</th>\n",
       "      <th>customer_id</th>\n",
       "      <th>order_status</th>\n",
       "      <th>order_purchase_timestamp</th>\n",
       "      <th>order_approved_at</th>\n",
       "      <th>order_delivered_carrier_date</th>\n",
       "      <th>order_delivered_customer_date</th>\n",
       "      <th>order_estimated_delivery_date</th>\n",
       "      <th>review_id</th>\n",
       "      <th>review_score</th>\n",
       "      <th>review_creation_date</th>\n",
       "      <th>review_answer_timestamp</th>\n",
       "      <th>order_item_id</th>\n",
       "      <th>product_id</th>\n",
       "      <th>seller_id</th>\n",
       "      <th>shipping_limit_date</th>\n",
       "      <th>price</th>\n",
       "      <th>freight_value</th>\n",
       "      <th>customer_unique_id</th>\n",
       "      <th>customer_zip_code_prefix</th>\n",
       "      <th>customer_city</th>\n",
       "      <th>customer_state</th>\n",
       "      <th>product_category_name</th>\n",
       "      <th>product_name_lenght</th>\n",
       "      <th>product_description_lenght</th>\n",
       "      <th>product_photos_qty</th>\n",
       "      <th>product_weight_g</th>\n",
       "      <th>product_length_cm</th>\n",
       "      <th>product_height_cm</th>\n",
       "      <th>product_width_cm</th>\n",
       "      <th>seller_zip_code_prefix</th>\n",
       "      <th>seller_city</th>\n",
       "      <th>seller_state</th>\n",
       "      <th>geolocation_lat</th>\n",
       "      <th>geolocation_lng</th>\n",
       "      <th>geolocation_city</th>\n",
       "      <th>geolocation_state</th>\n",
       "      <th>product_category_name_english</th>\n",
       "    </tr>\n",
       "  </thead>\n",
       "  <tbody>\n",
       "    <tr>\n",
       "      <th>0</th>\n",
       "      <td>67731</td>\n",
       "      <td>1</td>\n",
       "      <td>credit_card</td>\n",
       "      <td>8</td>\n",
       "      <td>99.330002</td>\n",
       "      <td>3851</td>\n",
       "      <td>delivered</td>\n",
       "      <td>2018-04-25 22:01:49</td>\n",
       "      <td>2018-04-25 22:15:09</td>\n",
       "      <td>2018-05-02 15:20:00</td>\n",
       "      <td>2018-05-09 17:36:51</td>\n",
       "      <td>2018-05-22 00:00:00</td>\n",
       "      <td>4ce650e117a5b292bf5ea980a61eb61e</td>\n",
       "      <td>1</td>\n",
       "      <td>2018-05-10 00:00:00</td>\n",
       "      <td>2018-05-15 23:38:00</td>\n",
       "      <td>1</td>\n",
       "      <td>21466</td>\n",
       "      <td>374</td>\n",
       "      <td>2018-05-02 22:15:09</td>\n",
       "      <td>79.800003</td>\n",
       "      <td>19.530001</td>\n",
       "      <td>40209</td>\n",
       "      <td>39801</td>\n",
       "      <td>teofilo otoni</td>\n",
       "      <td>MG</td>\n",
       "      <td>casa_construcao</td>\n",
       "      <td>57.0</td>\n",
       "      <td>921.0</td>\n",
       "      <td>8.0</td>\n",
       "      <td>800.0</td>\n",
       "      <td>17.0</td>\n",
       "      <td>27.0</td>\n",
       "      <td>17.0</td>\n",
       "      <td>13321.0</td>\n",
       "      <td>salto</td>\n",
       "      <td>SP</td>\n",
       "      <td>-23.190243</td>\n",
       "      <td>-47.291569</td>\n",
       "      <td>salto</td>\n",
       "      <td>SP</td>\n",
       "      <td>home_construction</td>\n",
       "    </tr>\n",
       "    <tr>\n",
       "      <th>1</th>\n",
       "      <td>67731</td>\n",
       "      <td>1</td>\n",
       "      <td>credit_card</td>\n",
       "      <td>8</td>\n",
       "      <td>99.330002</td>\n",
       "      <td>3851</td>\n",
       "      <td>delivered</td>\n",
       "      <td>2018-04-25 22:01:49</td>\n",
       "      <td>2018-04-25 22:15:09</td>\n",
       "      <td>2018-05-02 15:20:00</td>\n",
       "      <td>2018-05-09 17:36:51</td>\n",
       "      <td>2018-05-22 00:00:00</td>\n",
       "      <td>4ce650e117a5b292bf5ea980a61eb61e</td>\n",
       "      <td>1</td>\n",
       "      <td>2018-05-10 00:00:00</td>\n",
       "      <td>2018-05-15 23:38:00</td>\n",
       "      <td>1</td>\n",
       "      <td>21466</td>\n",
       "      <td>374</td>\n",
       "      <td>2018-05-02 22:15:09</td>\n",
       "      <td>79.800003</td>\n",
       "      <td>19.530001</td>\n",
       "      <td>40209</td>\n",
       "      <td>39801</td>\n",
       "      <td>teofilo otoni</td>\n",
       "      <td>MG</td>\n",
       "      <td>casa_construcao</td>\n",
       "      <td>57.0</td>\n",
       "      <td>921.0</td>\n",
       "      <td>8.0</td>\n",
       "      <td>800.0</td>\n",
       "      <td>17.0</td>\n",
       "      <td>27.0</td>\n",
       "      <td>17.0</td>\n",
       "      <td>13321.0</td>\n",
       "      <td>salto</td>\n",
       "      <td>SP</td>\n",
       "      <td>-23.197674</td>\n",
       "      <td>-47.289169</td>\n",
       "      <td>salto</td>\n",
       "      <td>SP</td>\n",
       "      <td>home_construction</td>\n",
       "    </tr>\n",
       "    <tr>\n",
       "      <th>2</th>\n",
       "      <td>67731</td>\n",
       "      <td>1</td>\n",
       "      <td>credit_card</td>\n",
       "      <td>8</td>\n",
       "      <td>99.330002</td>\n",
       "      <td>3851</td>\n",
       "      <td>delivered</td>\n",
       "      <td>2018-04-25 22:01:49</td>\n",
       "      <td>2018-04-25 22:15:09</td>\n",
       "      <td>2018-05-02 15:20:00</td>\n",
       "      <td>2018-05-09 17:36:51</td>\n",
       "      <td>2018-05-22 00:00:00</td>\n",
       "      <td>4ce650e117a5b292bf5ea980a61eb61e</td>\n",
       "      <td>1</td>\n",
       "      <td>2018-05-10 00:00:00</td>\n",
       "      <td>2018-05-15 23:38:00</td>\n",
       "      <td>1</td>\n",
       "      <td>21466</td>\n",
       "      <td>374</td>\n",
       "      <td>2018-05-02 22:15:09</td>\n",
       "      <td>79.800003</td>\n",
       "      <td>19.530001</td>\n",
       "      <td>40209</td>\n",
       "      <td>39801</td>\n",
       "      <td>teofilo otoni</td>\n",
       "      <td>MG</td>\n",
       "      <td>casa_construcao</td>\n",
       "      <td>57.0</td>\n",
       "      <td>921.0</td>\n",
       "      <td>8.0</td>\n",
       "      <td>800.0</td>\n",
       "      <td>17.0</td>\n",
       "      <td>27.0</td>\n",
       "      <td>17.0</td>\n",
       "      <td>13321.0</td>\n",
       "      <td>salto</td>\n",
       "      <td>SP</td>\n",
       "      <td>-23.1929</td>\n",
       "      <td>-47.290066</td>\n",
       "      <td>salto</td>\n",
       "      <td>SP</td>\n",
       "      <td>home_construction</td>\n",
       "    </tr>\n",
       "    <tr>\n",
       "      <th>3</th>\n",
       "      <td>67731</td>\n",
       "      <td>1</td>\n",
       "      <td>credit_card</td>\n",
       "      <td>8</td>\n",
       "      <td>99.330002</td>\n",
       "      <td>3851</td>\n",
       "      <td>delivered</td>\n",
       "      <td>2018-04-25 22:01:49</td>\n",
       "      <td>2018-04-25 22:15:09</td>\n",
       "      <td>2018-05-02 15:20:00</td>\n",
       "      <td>2018-05-09 17:36:51</td>\n",
       "      <td>2018-05-22 00:00:00</td>\n",
       "      <td>4ce650e117a5b292bf5ea980a61eb61e</td>\n",
       "      <td>1</td>\n",
       "      <td>2018-05-10 00:00:00</td>\n",
       "      <td>2018-05-15 23:38:00</td>\n",
       "      <td>1</td>\n",
       "      <td>21466</td>\n",
       "      <td>374</td>\n",
       "      <td>2018-05-02 22:15:09</td>\n",
       "      <td>79.800003</td>\n",
       "      <td>19.530001</td>\n",
       "      <td>40209</td>\n",
       "      <td>39801</td>\n",
       "      <td>teofilo otoni</td>\n",
       "      <td>MG</td>\n",
       "      <td>casa_construcao</td>\n",
       "      <td>57.0</td>\n",
       "      <td>921.0</td>\n",
       "      <td>8.0</td>\n",
       "      <td>800.0</td>\n",
       "      <td>17.0</td>\n",
       "      <td>27.0</td>\n",
       "      <td>17.0</td>\n",
       "      <td>13321.0</td>\n",
       "      <td>salto</td>\n",
       "      <td>SP</td>\n",
       "      <td>-23.196045</td>\n",
       "      <td>-47.29789</td>\n",
       "      <td>salto</td>\n",
       "      <td>SP</td>\n",
       "      <td>home_construction</td>\n",
       "    </tr>\n",
       "    <tr>\n",
       "      <th>4</th>\n",
       "      <td>67731</td>\n",
       "      <td>1</td>\n",
       "      <td>credit_card</td>\n",
       "      <td>8</td>\n",
       "      <td>99.330002</td>\n",
       "      <td>3851</td>\n",
       "      <td>delivered</td>\n",
       "      <td>2018-04-25 22:01:49</td>\n",
       "      <td>2018-04-25 22:15:09</td>\n",
       "      <td>2018-05-02 15:20:00</td>\n",
       "      <td>2018-05-09 17:36:51</td>\n",
       "      <td>2018-05-22 00:00:00</td>\n",
       "      <td>4ce650e117a5b292bf5ea980a61eb61e</td>\n",
       "      <td>1</td>\n",
       "      <td>2018-05-10 00:00:00</td>\n",
       "      <td>2018-05-15 23:38:00</td>\n",
       "      <td>1</td>\n",
       "      <td>21466</td>\n",
       "      <td>374</td>\n",
       "      <td>2018-05-02 22:15:09</td>\n",
       "      <td>79.800003</td>\n",
       "      <td>19.530001</td>\n",
       "      <td>40209</td>\n",
       "      <td>39801</td>\n",
       "      <td>teofilo otoni</td>\n",
       "      <td>MG</td>\n",
       "      <td>casa_construcao</td>\n",
       "      <td>57.0</td>\n",
       "      <td>921.0</td>\n",
       "      <td>8.0</td>\n",
       "      <td>800.0</td>\n",
       "      <td>17.0</td>\n",
       "      <td>27.0</td>\n",
       "      <td>17.0</td>\n",
       "      <td>13321.0</td>\n",
       "      <td>salto</td>\n",
       "      <td>SP</td>\n",
       "      <td>-23.186041</td>\n",
       "      <td>-47.287609</td>\n",
       "      <td>salto</td>\n",
       "      <td>SP</td>\n",
       "      <td>home_construction</td>\n",
       "    </tr>\n",
       "  </tbody>\n",
       "</table>\n",
       "</div>"
      ],
      "text/plain": [
       "   order_id  payment_sequential payment_type  payment_installments  \\\n",
       "0     67731                   1  credit_card                     8   \n",
       "1     67731                   1  credit_card                     8   \n",
       "2     67731                   1  credit_card                     8   \n",
       "3     67731                   1  credit_card                     8   \n",
       "4     67731                   1  credit_card                     8   \n",
       "\n",
       "   payment_value  customer_id order_status order_purchase_timestamp  \\\n",
       "0      99.330002         3851    delivered      2018-04-25 22:01:49   \n",
       "1      99.330002         3851    delivered      2018-04-25 22:01:49   \n",
       "2      99.330002         3851    delivered      2018-04-25 22:01:49   \n",
       "3      99.330002         3851    delivered      2018-04-25 22:01:49   \n",
       "4      99.330002         3851    delivered      2018-04-25 22:01:49   \n",
       "\n",
       "     order_approved_at order_delivered_carrier_date  \\\n",
       "0  2018-04-25 22:15:09          2018-05-02 15:20:00   \n",
       "1  2018-04-25 22:15:09          2018-05-02 15:20:00   \n",
       "2  2018-04-25 22:15:09          2018-05-02 15:20:00   \n",
       "3  2018-04-25 22:15:09          2018-05-02 15:20:00   \n",
       "4  2018-04-25 22:15:09          2018-05-02 15:20:00   \n",
       "\n",
       "  order_delivered_customer_date order_estimated_delivery_date  \\\n",
       "0           2018-05-09 17:36:51           2018-05-22 00:00:00   \n",
       "1           2018-05-09 17:36:51           2018-05-22 00:00:00   \n",
       "2           2018-05-09 17:36:51           2018-05-22 00:00:00   \n",
       "3           2018-05-09 17:36:51           2018-05-22 00:00:00   \n",
       "4           2018-05-09 17:36:51           2018-05-22 00:00:00   \n",
       "\n",
       "                          review_id  review_score review_creation_date  \\\n",
       "0  4ce650e117a5b292bf5ea980a61eb61e             1  2018-05-10 00:00:00   \n",
       "1  4ce650e117a5b292bf5ea980a61eb61e             1  2018-05-10 00:00:00   \n",
       "2  4ce650e117a5b292bf5ea980a61eb61e             1  2018-05-10 00:00:00   \n",
       "3  4ce650e117a5b292bf5ea980a61eb61e             1  2018-05-10 00:00:00   \n",
       "4  4ce650e117a5b292bf5ea980a61eb61e             1  2018-05-10 00:00:00   \n",
       "\n",
       "  review_answer_timestamp  order_item_id  product_id  seller_id  \\\n",
       "0     2018-05-15 23:38:00              1       21466        374   \n",
       "1     2018-05-15 23:38:00              1       21466        374   \n",
       "2     2018-05-15 23:38:00              1       21466        374   \n",
       "3     2018-05-15 23:38:00              1       21466        374   \n",
       "4     2018-05-15 23:38:00              1       21466        374   \n",
       "\n",
       "   shipping_limit_date      price  freight_value  customer_unique_id  \\\n",
       "0  2018-05-02 22:15:09  79.800003      19.530001               40209   \n",
       "1  2018-05-02 22:15:09  79.800003      19.530001               40209   \n",
       "2  2018-05-02 22:15:09  79.800003      19.530001               40209   \n",
       "3  2018-05-02 22:15:09  79.800003      19.530001               40209   \n",
       "4  2018-05-02 22:15:09  79.800003      19.530001               40209   \n",
       "\n",
       "   customer_zip_code_prefix  customer_city customer_state  \\\n",
       "0                     39801  teofilo otoni             MG   \n",
       "1                     39801  teofilo otoni             MG   \n",
       "2                     39801  teofilo otoni             MG   \n",
       "3                     39801  teofilo otoni             MG   \n",
       "4                     39801  teofilo otoni             MG   \n",
       "\n",
       "  product_category_name  product_name_lenght  product_description_lenght  \\\n",
       "0       casa_construcao                 57.0                       921.0   \n",
       "1       casa_construcao                 57.0                       921.0   \n",
       "2       casa_construcao                 57.0                       921.0   \n",
       "3       casa_construcao                 57.0                       921.0   \n",
       "4       casa_construcao                 57.0                       921.0   \n",
       "\n",
       "   product_photos_qty  product_weight_g  product_length_cm  product_height_cm  \\\n",
       "0                 8.0             800.0               17.0               27.0   \n",
       "1                 8.0             800.0               17.0               27.0   \n",
       "2                 8.0             800.0               17.0               27.0   \n",
       "3                 8.0             800.0               17.0               27.0   \n",
       "4                 8.0             800.0               17.0               27.0   \n",
       "\n",
       "   product_width_cm  seller_zip_code_prefix seller_city seller_state  \\\n",
       "0              17.0                 13321.0       salto           SP   \n",
       "1              17.0                 13321.0       salto           SP   \n",
       "2              17.0                 13321.0       salto           SP   \n",
       "3              17.0                 13321.0       salto           SP   \n",
       "4              17.0                 13321.0       salto           SP   \n",
       "\n",
       "   geolocation_lat  geolocation_lng geolocation_city geolocation_state  \\\n",
       "0       -23.190243       -47.291569            salto                SP   \n",
       "1       -23.197674       -47.289169            salto                SP   \n",
       "2         -23.1929       -47.290066            salto                SP   \n",
       "3       -23.196045        -47.29789            salto                SP   \n",
       "4       -23.186041       -47.287609            salto                SP   \n",
       "\n",
       "  product_category_name_english  \n",
       "0             home_construction  \n",
       "1             home_construction  \n",
       "2             home_construction  \n",
       "3             home_construction  \n",
       "4             home_construction  "
      ]
     },
     "execution_count": 39,
     "metadata": {},
     "output_type": "execute_result"
    }
   ],
   "source": [
    "df.head(5)"
   ]
  },
  {
   "cell_type": "code",
   "execution_count": 40,
   "id": "ea621275",
   "metadata": {
    "scrolled": true
   },
   "outputs": [
    {
     "data": {
      "text/html": [
       "<div>\n",
       "<style scoped>\n",
       "    .dataframe tbody tr th:only-of-type {\n",
       "        vertical-align: middle;\n",
       "    }\n",
       "\n",
       "    .dataframe tbody tr th {\n",
       "        vertical-align: top;\n",
       "    }\n",
       "\n",
       "    .dataframe thead th {\n",
       "        text-align: right;\n",
       "    }\n",
       "</style>\n",
       "<table border=\"1\" class=\"dataframe\">\n",
       "  <thead>\n",
       "    <tr style=\"text-align: right;\">\n",
       "      <th></th>\n",
       "      <th>product_category_name_english</th>\n",
       "    </tr>\n",
       "  </thead>\n",
       "  <tbody>\n",
       "    <tr>\n",
       "      <th>bed_bath_table</th>\n",
       "      <td>2074986</td>\n",
       "    </tr>\n",
       "    <tr>\n",
       "      <th>health_beauty</th>\n",
       "      <td>975285</td>\n",
       "    </tr>\n",
       "    <tr>\n",
       "      <th>furniture_decor</th>\n",
       "      <td>883445</td>\n",
       "    </tr>\n",
       "    <tr>\n",
       "      <th>sports_leisure</th>\n",
       "      <td>827714</td>\n",
       "    </tr>\n",
       "    <tr>\n",
       "      <th>computers_accessories</th>\n",
       "      <td>816131</td>\n",
       "    </tr>\n",
       "    <tr>\n",
       "      <th>...</th>\n",
       "      <td>...</td>\n",
       "    </tr>\n",
       "    <tr>\n",
       "      <th>cds_dvds_musicals</th>\n",
       "      <td>1498</td>\n",
       "    </tr>\n",
       "    <tr>\n",
       "      <th>fashion_childrens_clothes</th>\n",
       "      <td>1100</td>\n",
       "    </tr>\n",
       "    <tr>\n",
       "      <th>la_cuisine</th>\n",
       "      <td>996</td>\n",
       "    </tr>\n",
       "    <tr>\n",
       "      <th>flowers</th>\n",
       "      <td>989</td>\n",
       "    </tr>\n",
       "    <tr>\n",
       "      <th>security_and_services</th>\n",
       "      <td>189</td>\n",
       "    </tr>\n",
       "  </tbody>\n",
       "</table>\n",
       "<p>71 rows × 1 columns</p>\n",
       "</div>"
      ],
      "text/plain": [
       "                           product_category_name_english\n",
       "bed_bath_table                                   2074986\n",
       "health_beauty                                     975285\n",
       "furniture_decor                                   883445\n",
       "sports_leisure                                    827714\n",
       "computers_accessories                             816131\n",
       "...                                                  ...\n",
       "cds_dvds_musicals                                   1498\n",
       "fashion_childrens_clothes                           1100\n",
       "la_cuisine                                           996\n",
       "flowers                                              989\n",
       "security_and_services                                189\n",
       "\n",
       "[71 rows x 1 columns]"
      ]
     },
     "execution_count": 40,
     "metadata": {},
     "output_type": "execute_result"
    }
   ],
   "source": [
    "prod_cate = pd.DataFrame(data = df[\"product_category_name_english\"].value_counts())\n",
    "#pd.set_option('display.max_rows', None)\n",
    "#pd.reset_option('display.max_rows', None)\n",
    "prod_cate"
   ]
  },
  {
   "cell_type": "code",
   "execution_count": 41,
   "id": "1562638d",
   "metadata": {},
   "outputs": [],
   "source": [
    "pd.reset_option('display.max_rows', None)"
   ]
  },
  {
   "cell_type": "markdown",
   "id": "902009d8",
   "metadata": {},
   "source": [
    "There are 71 product categories."
   ]
  },
  {
   "cell_type": "markdown",
   "id": "b904b733",
   "metadata": {},
   "source": [
    "***"
   ]
  },
  {
   "cell_type": "markdown",
   "id": "91ace636",
   "metadata": {},
   "source": [
    "### The differents types of order"
   ]
  },
  {
   "cell_type": "code",
   "execution_count": 42,
   "id": "98719c43",
   "metadata": {},
   "outputs": [
    {
     "data": {
      "text/plain": [
       "Index(['order_id', 'payment_sequential', 'payment_type',\n",
       "       'payment_installments', 'payment_value', 'customer_id', 'order_status',\n",
       "       'order_purchase_timestamp', 'order_approved_at',\n",
       "       'order_delivered_carrier_date', 'order_delivered_customer_date',\n",
       "       'order_estimated_delivery_date', 'review_id', 'review_score',\n",
       "       'review_creation_date', 'review_answer_timestamp', 'order_item_id',\n",
       "       'product_id', 'seller_id', 'shipping_limit_date', 'price',\n",
       "       'freight_value', 'customer_unique_id', 'customer_zip_code_prefix',\n",
       "       'customer_city', 'customer_state', 'product_category_name',\n",
       "       'product_name_lenght', 'product_description_lenght',\n",
       "       'product_photos_qty', 'product_weight_g', 'product_length_cm',\n",
       "       'product_height_cm', 'product_width_cm', 'seller_zip_code_prefix',\n",
       "       'seller_city', 'seller_state', 'geolocation_lat', 'geolocation_lng',\n",
       "       'geolocation_city', 'geolocation_state',\n",
       "       'product_category_name_english'],\n",
       "      dtype='object')"
      ]
     },
     "execution_count": 42,
     "metadata": {},
     "output_type": "execute_result"
    }
   ],
   "source": [
    "df.columns"
   ]
  },
  {
   "cell_type": "code",
   "execution_count": 43,
   "id": "e1d65a45",
   "metadata": {},
   "outputs": [
    {
     "data": {
      "text/plain": [
       "delivered    12332067\n",
       "canceled          840\n",
       "Name: order_status, dtype: int64"
      ]
     },
     "execution_count": 43,
     "metadata": {},
     "output_type": "execute_result"
    }
   ],
   "source": [
    "df[\"order_status\"].value_counts()"
   ]
  },
  {
   "cell_type": "markdown",
   "id": "68166bb7",
   "metadata": {},
   "source": [
    "Is the canceled order by differents customer and what are the products ordered ?"
   ]
  },
  {
   "cell_type": "code",
   "execution_count": 44,
   "id": "b76cf7b8",
   "metadata": {
    "scrolled": true
   },
   "outputs": [
    {
     "data": {
      "text/html": [
       "<div>\n",
       "<style scoped>\n",
       "    .dataframe tbody tr th:only-of-type {\n",
       "        vertical-align: middle;\n",
       "    }\n",
       "\n",
       "    .dataframe tbody tr th {\n",
       "        vertical-align: top;\n",
       "    }\n",
       "\n",
       "    .dataframe thead th {\n",
       "        text-align: right;\n",
       "    }\n",
       "</style>\n",
       "<table border=\"1\" class=\"dataframe\">\n",
       "  <thead>\n",
       "    <tr style=\"text-align: right;\">\n",
       "      <th></th>\n",
       "      <th>order_id</th>\n",
       "      <th>payment_sequential</th>\n",
       "      <th>payment_type</th>\n",
       "      <th>payment_installments</th>\n",
       "      <th>payment_value</th>\n",
       "      <th>customer_id</th>\n",
       "      <th>order_status</th>\n",
       "      <th>order_purchase_timestamp</th>\n",
       "      <th>order_approved_at</th>\n",
       "      <th>order_delivered_carrier_date</th>\n",
       "      <th>order_delivered_customer_date</th>\n",
       "      <th>order_estimated_delivery_date</th>\n",
       "      <th>review_id</th>\n",
       "      <th>review_score</th>\n",
       "      <th>review_creation_date</th>\n",
       "      <th>review_answer_timestamp</th>\n",
       "      <th>order_item_id</th>\n",
       "      <th>product_id</th>\n",
       "      <th>seller_id</th>\n",
       "      <th>shipping_limit_date</th>\n",
       "      <th>price</th>\n",
       "      <th>freight_value</th>\n",
       "      <th>customer_unique_id</th>\n",
       "      <th>customer_zip_code_prefix</th>\n",
       "      <th>customer_city</th>\n",
       "      <th>customer_state</th>\n",
       "      <th>product_category_name</th>\n",
       "      <th>product_name_lenght</th>\n",
       "      <th>product_description_lenght</th>\n",
       "      <th>product_photos_qty</th>\n",
       "      <th>product_weight_g</th>\n",
       "      <th>product_length_cm</th>\n",
       "      <th>product_height_cm</th>\n",
       "      <th>product_width_cm</th>\n",
       "      <th>seller_zip_code_prefix</th>\n",
       "      <th>seller_city</th>\n",
       "      <th>seller_state</th>\n",
       "      <th>geolocation_lat</th>\n",
       "      <th>geolocation_lng</th>\n",
       "      <th>geolocation_city</th>\n",
       "      <th>geolocation_state</th>\n",
       "      <th>product_category_name_english</th>\n",
       "    </tr>\n",
       "  </thead>\n",
       "  <tbody>\n",
       "    <tr>\n",
       "      <th>7372751</th>\n",
       "      <td>43728</td>\n",
       "      <td>1</td>\n",
       "      <td>credit_card</td>\n",
       "      <td>2</td>\n",
       "      <td>263.929993</td>\n",
       "      <td>39722</td>\n",
       "      <td>canceled</td>\n",
       "      <td>2016-10-07 14:52:30</td>\n",
       "      <td>2016-10-07 15:07:10</td>\n",
       "      <td>2016-10-11 15:07:11</td>\n",
       "      <td>2016-10-14 15:07:11</td>\n",
       "      <td>2016-11-29 00:00:00</td>\n",
       "      <td>9399c464901dcf9d6a40e6dde8ebdf59</td>\n",
       "      <td>1</td>\n",
       "      <td>2016-12-01 00:00:00</td>\n",
       "      <td>2016-12-19 20:08:30</td>\n",
       "      <td>1</td>\n",
       "      <td>28909</td>\n",
       "      <td>1129</td>\n",
       "      <td>2016-10-11 15:07:11</td>\n",
       "      <td>249.899994</td>\n",
       "      <td>14.03</td>\n",
       "      <td>32099</td>\n",
       "      <td>20091</td>\n",
       "      <td>rio de janeiro</td>\n",
       "      <td>RJ</td>\n",
       "      <td>perfumaria</td>\n",
       "      <td>43.0</td>\n",
       "      <td>259.0</td>\n",
       "      <td>1.0</td>\n",
       "      <td>610.0</td>\n",
       "      <td>22.0</td>\n",
       "      <td>14.0</td>\n",
       "      <td>16.0</td>\n",
       "      <td>25645.0</td>\n",
       "      <td>petropolis</td>\n",
       "      <td>RJ</td>\n",
       "      <td>-22.549034</td>\n",
       "      <td>-43.210094</td>\n",
       "      <td>petrópolis</td>\n",
       "      <td>RJ</td>\n",
       "      <td>perfumery</td>\n",
       "    </tr>\n",
       "    <tr>\n",
       "      <th>7372752</th>\n",
       "      <td>43728</td>\n",
       "      <td>1</td>\n",
       "      <td>credit_card</td>\n",
       "      <td>2</td>\n",
       "      <td>263.929993</td>\n",
       "      <td>39722</td>\n",
       "      <td>canceled</td>\n",
       "      <td>2016-10-07 14:52:30</td>\n",
       "      <td>2016-10-07 15:07:10</td>\n",
       "      <td>2016-10-11 15:07:11</td>\n",
       "      <td>2016-10-14 15:07:11</td>\n",
       "      <td>2016-11-29 00:00:00</td>\n",
       "      <td>9399c464901dcf9d6a40e6dde8ebdf59</td>\n",
       "      <td>1</td>\n",
       "      <td>2016-12-01 00:00:00</td>\n",
       "      <td>2016-12-19 20:08:30</td>\n",
       "      <td>1</td>\n",
       "      <td>28909</td>\n",
       "      <td>1129</td>\n",
       "      <td>2016-10-11 15:07:11</td>\n",
       "      <td>249.899994</td>\n",
       "      <td>14.03</td>\n",
       "      <td>32099</td>\n",
       "      <td>20091</td>\n",
       "      <td>rio de janeiro</td>\n",
       "      <td>RJ</td>\n",
       "      <td>perfumaria</td>\n",
       "      <td>43.0</td>\n",
       "      <td>259.0</td>\n",
       "      <td>1.0</td>\n",
       "      <td>610.0</td>\n",
       "      <td>22.0</td>\n",
       "      <td>14.0</td>\n",
       "      <td>16.0</td>\n",
       "      <td>25645.0</td>\n",
       "      <td>petropolis</td>\n",
       "      <td>RJ</td>\n",
       "      <td>-22.53315</td>\n",
       "      <td>-43.194721</td>\n",
       "      <td>petrópolis</td>\n",
       "      <td>RJ</td>\n",
       "      <td>perfumery</td>\n",
       "    </tr>\n",
       "    <tr>\n",
       "      <th>7372753</th>\n",
       "      <td>43728</td>\n",
       "      <td>1</td>\n",
       "      <td>credit_card</td>\n",
       "      <td>2</td>\n",
       "      <td>263.929993</td>\n",
       "      <td>39722</td>\n",
       "      <td>canceled</td>\n",
       "      <td>2016-10-07 14:52:30</td>\n",
       "      <td>2016-10-07 15:07:10</td>\n",
       "      <td>2016-10-11 15:07:11</td>\n",
       "      <td>2016-10-14 15:07:11</td>\n",
       "      <td>2016-11-29 00:00:00</td>\n",
       "      <td>9399c464901dcf9d6a40e6dde8ebdf59</td>\n",
       "      <td>1</td>\n",
       "      <td>2016-12-01 00:00:00</td>\n",
       "      <td>2016-12-19 20:08:30</td>\n",
       "      <td>1</td>\n",
       "      <td>28909</td>\n",
       "      <td>1129</td>\n",
       "      <td>2016-10-11 15:07:11</td>\n",
       "      <td>249.899994</td>\n",
       "      <td>14.03</td>\n",
       "      <td>32099</td>\n",
       "      <td>20091</td>\n",
       "      <td>rio de janeiro</td>\n",
       "      <td>RJ</td>\n",
       "      <td>perfumaria</td>\n",
       "      <td>43.0</td>\n",
       "      <td>259.0</td>\n",
       "      <td>1.0</td>\n",
       "      <td>610.0</td>\n",
       "      <td>22.0</td>\n",
       "      <td>14.0</td>\n",
       "      <td>16.0</td>\n",
       "      <td>25645.0</td>\n",
       "      <td>petropolis</td>\n",
       "      <td>RJ</td>\n",
       "      <td>-22.540592</td>\n",
       "      <td>-43.192268</td>\n",
       "      <td>petropolis</td>\n",
       "      <td>RJ</td>\n",
       "      <td>perfumery</td>\n",
       "    </tr>\n",
       "    <tr>\n",
       "      <th>7372754</th>\n",
       "      <td>43728</td>\n",
       "      <td>1</td>\n",
       "      <td>credit_card</td>\n",
       "      <td>2</td>\n",
       "      <td>263.929993</td>\n",
       "      <td>39722</td>\n",
       "      <td>canceled</td>\n",
       "      <td>2016-10-07 14:52:30</td>\n",
       "      <td>2016-10-07 15:07:10</td>\n",
       "      <td>2016-10-11 15:07:11</td>\n",
       "      <td>2016-10-14 15:07:11</td>\n",
       "      <td>2016-11-29 00:00:00</td>\n",
       "      <td>9399c464901dcf9d6a40e6dde8ebdf59</td>\n",
       "      <td>1</td>\n",
       "      <td>2016-12-01 00:00:00</td>\n",
       "      <td>2016-12-19 20:08:30</td>\n",
       "      <td>1</td>\n",
       "      <td>28909</td>\n",
       "      <td>1129</td>\n",
       "      <td>2016-10-11 15:07:11</td>\n",
       "      <td>249.899994</td>\n",
       "      <td>14.03</td>\n",
       "      <td>32099</td>\n",
       "      <td>20091</td>\n",
       "      <td>rio de janeiro</td>\n",
       "      <td>RJ</td>\n",
       "      <td>perfumaria</td>\n",
       "      <td>43.0</td>\n",
       "      <td>259.0</td>\n",
       "      <td>1.0</td>\n",
       "      <td>610.0</td>\n",
       "      <td>22.0</td>\n",
       "      <td>14.0</td>\n",
       "      <td>16.0</td>\n",
       "      <td>25645.0</td>\n",
       "      <td>petropolis</td>\n",
       "      <td>RJ</td>\n",
       "      <td>-22.537424</td>\n",
       "      <td>-43.19244</td>\n",
       "      <td>petropolis</td>\n",
       "      <td>RJ</td>\n",
       "      <td>perfumery</td>\n",
       "    </tr>\n",
       "    <tr>\n",
       "      <th>7372755</th>\n",
       "      <td>43728</td>\n",
       "      <td>1</td>\n",
       "      <td>credit_card</td>\n",
       "      <td>2</td>\n",
       "      <td>263.929993</td>\n",
       "      <td>39722</td>\n",
       "      <td>canceled</td>\n",
       "      <td>2016-10-07 14:52:30</td>\n",
       "      <td>2016-10-07 15:07:10</td>\n",
       "      <td>2016-10-11 15:07:11</td>\n",
       "      <td>2016-10-14 15:07:11</td>\n",
       "      <td>2016-11-29 00:00:00</td>\n",
       "      <td>9399c464901dcf9d6a40e6dde8ebdf59</td>\n",
       "      <td>1</td>\n",
       "      <td>2016-12-01 00:00:00</td>\n",
       "      <td>2016-12-19 20:08:30</td>\n",
       "      <td>1</td>\n",
       "      <td>28909</td>\n",
       "      <td>1129</td>\n",
       "      <td>2016-10-11 15:07:11</td>\n",
       "      <td>249.899994</td>\n",
       "      <td>14.03</td>\n",
       "      <td>32099</td>\n",
       "      <td>20091</td>\n",
       "      <td>rio de janeiro</td>\n",
       "      <td>RJ</td>\n",
       "      <td>perfumaria</td>\n",
       "      <td>43.0</td>\n",
       "      <td>259.0</td>\n",
       "      <td>1.0</td>\n",
       "      <td>610.0</td>\n",
       "      <td>22.0</td>\n",
       "      <td>14.0</td>\n",
       "      <td>16.0</td>\n",
       "      <td>25645.0</td>\n",
       "      <td>petropolis</td>\n",
       "      <td>RJ</td>\n",
       "      <td>-22.53409</td>\n",
       "      <td>-43.198265</td>\n",
       "      <td>petropolis</td>\n",
       "      <td>RJ</td>\n",
       "      <td>perfumery</td>\n",
       "    </tr>\n",
       "  </tbody>\n",
       "</table>\n",
       "</div>"
      ],
      "text/plain": [
       "         order_id  payment_sequential payment_type  payment_installments  \\\n",
       "7372751     43728                   1  credit_card                     2   \n",
       "7372752     43728                   1  credit_card                     2   \n",
       "7372753     43728                   1  credit_card                     2   \n",
       "7372754     43728                   1  credit_card                     2   \n",
       "7372755     43728                   1  credit_card                     2   \n",
       "\n",
       "         payment_value  customer_id order_status order_purchase_timestamp  \\\n",
       "7372751     263.929993        39722     canceled      2016-10-07 14:52:30   \n",
       "7372752     263.929993        39722     canceled      2016-10-07 14:52:30   \n",
       "7372753     263.929993        39722     canceled      2016-10-07 14:52:30   \n",
       "7372754     263.929993        39722     canceled      2016-10-07 14:52:30   \n",
       "7372755     263.929993        39722     canceled      2016-10-07 14:52:30   \n",
       "\n",
       "           order_approved_at order_delivered_carrier_date  \\\n",
       "7372751  2016-10-07 15:07:10          2016-10-11 15:07:11   \n",
       "7372752  2016-10-07 15:07:10          2016-10-11 15:07:11   \n",
       "7372753  2016-10-07 15:07:10          2016-10-11 15:07:11   \n",
       "7372754  2016-10-07 15:07:10          2016-10-11 15:07:11   \n",
       "7372755  2016-10-07 15:07:10          2016-10-11 15:07:11   \n",
       "\n",
       "        order_delivered_customer_date order_estimated_delivery_date  \\\n",
       "7372751           2016-10-14 15:07:11           2016-11-29 00:00:00   \n",
       "7372752           2016-10-14 15:07:11           2016-11-29 00:00:00   \n",
       "7372753           2016-10-14 15:07:11           2016-11-29 00:00:00   \n",
       "7372754           2016-10-14 15:07:11           2016-11-29 00:00:00   \n",
       "7372755           2016-10-14 15:07:11           2016-11-29 00:00:00   \n",
       "\n",
       "                                review_id  review_score review_creation_date  \\\n",
       "7372751  9399c464901dcf9d6a40e6dde8ebdf59             1  2016-12-01 00:00:00   \n",
       "7372752  9399c464901dcf9d6a40e6dde8ebdf59             1  2016-12-01 00:00:00   \n",
       "7372753  9399c464901dcf9d6a40e6dde8ebdf59             1  2016-12-01 00:00:00   \n",
       "7372754  9399c464901dcf9d6a40e6dde8ebdf59             1  2016-12-01 00:00:00   \n",
       "7372755  9399c464901dcf9d6a40e6dde8ebdf59             1  2016-12-01 00:00:00   \n",
       "\n",
       "        review_answer_timestamp  order_item_id  product_id  seller_id  \\\n",
       "7372751     2016-12-19 20:08:30              1       28909       1129   \n",
       "7372752     2016-12-19 20:08:30              1       28909       1129   \n",
       "7372753     2016-12-19 20:08:30              1       28909       1129   \n",
       "7372754     2016-12-19 20:08:30              1       28909       1129   \n",
       "7372755     2016-12-19 20:08:30              1       28909       1129   \n",
       "\n",
       "         shipping_limit_date       price  freight_value  customer_unique_id  \\\n",
       "7372751  2016-10-11 15:07:11  249.899994          14.03               32099   \n",
       "7372752  2016-10-11 15:07:11  249.899994          14.03               32099   \n",
       "7372753  2016-10-11 15:07:11  249.899994          14.03               32099   \n",
       "7372754  2016-10-11 15:07:11  249.899994          14.03               32099   \n",
       "7372755  2016-10-11 15:07:11  249.899994          14.03               32099   \n",
       "\n",
       "         customer_zip_code_prefix   customer_city customer_state  \\\n",
       "7372751                     20091  rio de janeiro             RJ   \n",
       "7372752                     20091  rio de janeiro             RJ   \n",
       "7372753                     20091  rio de janeiro             RJ   \n",
       "7372754                     20091  rio de janeiro             RJ   \n",
       "7372755                     20091  rio de janeiro             RJ   \n",
       "\n",
       "        product_category_name  product_name_lenght  \\\n",
       "7372751            perfumaria                 43.0   \n",
       "7372752            perfumaria                 43.0   \n",
       "7372753            perfumaria                 43.0   \n",
       "7372754            perfumaria                 43.0   \n",
       "7372755            perfumaria                 43.0   \n",
       "\n",
       "         product_description_lenght  product_photos_qty  product_weight_g  \\\n",
       "7372751                       259.0                 1.0             610.0   \n",
       "7372752                       259.0                 1.0             610.0   \n",
       "7372753                       259.0                 1.0             610.0   \n",
       "7372754                       259.0                 1.0             610.0   \n",
       "7372755                       259.0                 1.0             610.0   \n",
       "\n",
       "         product_length_cm  product_height_cm  product_width_cm  \\\n",
       "7372751               22.0               14.0              16.0   \n",
       "7372752               22.0               14.0              16.0   \n",
       "7372753               22.0               14.0              16.0   \n",
       "7372754               22.0               14.0              16.0   \n",
       "7372755               22.0               14.0              16.0   \n",
       "\n",
       "         seller_zip_code_prefix seller_city seller_state  geolocation_lat  \\\n",
       "7372751                 25645.0  petropolis           RJ       -22.549034   \n",
       "7372752                 25645.0  petropolis           RJ        -22.53315   \n",
       "7372753                 25645.0  petropolis           RJ       -22.540592   \n",
       "7372754                 25645.0  petropolis           RJ       -22.537424   \n",
       "7372755                 25645.0  petropolis           RJ        -22.53409   \n",
       "\n",
       "         geolocation_lng geolocation_city geolocation_state  \\\n",
       "7372751       -43.210094       petrópolis                RJ   \n",
       "7372752       -43.194721       petrópolis                RJ   \n",
       "7372753       -43.192268       petropolis                RJ   \n",
       "7372754        -43.19244       petropolis                RJ   \n",
       "7372755       -43.198265       petropolis                RJ   \n",
       "\n",
       "        product_category_name_english  \n",
       "7372751                     perfumery  \n",
       "7372752                     perfumery  \n",
       "7372753                     perfumery  \n",
       "7372754                     perfumery  \n",
       "7372755                     perfumery  "
      ]
     },
     "execution_count": 44,
     "metadata": {},
     "output_type": "execute_result"
    }
   ],
   "source": [
    "order_canceled = df[df[\"order_status\"] == \"canceled\"]\n",
    "order_canceled.head(5)"
   ]
  },
  {
   "cell_type": "code",
   "execution_count": 45,
   "id": "327afd15",
   "metadata": {},
   "outputs": [
    {
     "data": {
      "text/plain": [
       "16145    310\n",
       "80654    178\n",
       "51311    121\n",
       "9335     108\n",
       "43728     89\n",
       "37425     34\n",
       "Name: order_id, dtype: int64"
      ]
     },
     "execution_count": 45,
     "metadata": {},
     "output_type": "execute_result"
    }
   ],
   "source": [
    "order_canceled[\"order_id\"].value_counts()"
   ]
  },
  {
   "cell_type": "code",
   "execution_count": 46,
   "id": "b178e8f8",
   "metadata": {},
   "outputs": [
    {
     "data": {
      "text/plain": [
       "82043    310\n",
       "34078    178\n",
       "70754    121\n",
       "10281    108\n",
       "39722     89\n",
       "41461     34\n",
       "Name: customer_id, dtype: int64"
      ]
     },
     "execution_count": 46,
     "metadata": {},
     "output_type": "execute_result"
    }
   ],
   "source": [
    "order_canceled[\"customer_id\"].value_counts()"
   ]
  },
  {
   "cell_type": "code",
   "execution_count": 47,
   "id": "bf00e70b",
   "metadata": {},
   "outputs": [
    {
     "data": {
      "text/plain": [
       "77540    310\n",
       "17030    178\n",
       "89080    121\n",
       "37899    108\n",
       "32099     89\n",
       "65961     34\n",
       "Name: customer_unique_id, dtype: int64"
      ]
     },
     "execution_count": 47,
     "metadata": {},
     "output_type": "execute_result"
    }
   ],
   "source": [
    "order_canceled[\"customer_unique_id\"].value_counts()"
   ]
  },
  {
   "cell_type": "markdown",
   "id": "65c807a7",
   "metadata": {},
   "source": [
    "Here we can see that order canceled where so by 6 differents customer."
   ]
  },
  {
   "cell_type": "markdown",
   "id": "7de80944",
   "metadata": {},
   "source": [
    "Let's see what where ordered canceled."
   ]
  },
  {
   "cell_type": "code",
   "execution_count": 48,
   "id": "7223dc68",
   "metadata": {},
   "outputs": [
    {
     "data": {
      "text/plain": [
       "fashion_bags_accessories    310\n",
       "health_beauty               197\n",
       "perfumery                   178\n",
       "toys                        121\n",
       "sports_leisure               34\n",
       "Name: product_category_name_english, dtype: int64"
      ]
     },
     "execution_count": 48,
     "metadata": {},
     "output_type": "execute_result"
    }
   ],
   "source": [
    "order_canceled[\"product_category_name_english\"].value_counts()"
   ]
  },
  {
   "cell_type": "markdown",
   "id": "81242c6c",
   "metadata": {},
   "source": [
    "***"
   ]
  },
  {
   "cell_type": "markdown",
   "id": "5e6f98a6",
   "metadata": {},
   "source": [
    "### The distributions of the differents products ordered"
   ]
  },
  {
   "cell_type": "code",
   "execution_count": 49,
   "id": "7847eb4d",
   "metadata": {
    "scrolled": false
   },
   "outputs": [
    {
     "data": {
      "text/plain": [
       "(array([      0.,  250000.,  500000.,  750000., 1000000., 1250000.,\n",
       "        1500000., 1750000., 2000000., 2250000.]),\n",
       " [Text(0, 0, ''),\n",
       "  Text(0, 0, ''),\n",
       "  Text(0, 0, ''),\n",
       "  Text(0, 0, ''),\n",
       "  Text(0, 0, ''),\n",
       "  Text(0, 0, ''),\n",
       "  Text(0, 0, ''),\n",
       "  Text(0, 0, ''),\n",
       "  Text(0, 0, ''),\n",
       "  Text(0, 0, '')])"
      ]
     },
     "execution_count": 49,
     "metadata": {},
     "output_type": "execute_result"
    },
    {
     "data": {
      "image/png": "[encoded data removed]",
      "text/plain": [
       "<Figure size 1500x1500 with 1 Axes>"
      ]
     },
     "metadata": {},
     "output_type": "display_data"
    }
   ],
   "source": [
    "plt.figure(figsize=(15,15))\n",
    "sns.countplot(y=df[\"product_category_name_english\"])\n",
    "plt.xticks(rotation=90)"
   ]
  },
  {
   "cell_type": "code",
   "execution_count": 50,
   "id": "a9efcc3a",
   "metadata": {},
   "outputs": [
    {
     "data": {
      "text/html": [
       "<div>\n",
       "<style scoped>\n",
       "    .dataframe tbody tr th:only-of-type {\n",
       "        vertical-align: middle;\n",
       "    }\n",
       "\n",
       "    .dataframe tbody tr th {\n",
       "        vertical-align: top;\n",
       "    }\n",
       "\n",
       "    .dataframe thead th {\n",
       "        text-align: right;\n",
       "    }\n",
       "</style>\n",
       "<table border=\"1\" class=\"dataframe\">\n",
       "  <thead>\n",
       "    <tr style=\"text-align: right;\">\n",
       "      <th></th>\n",
       "      <th>product_category_name_english</th>\n",
       "    </tr>\n",
       "  </thead>\n",
       "  <tbody>\n",
       "    <tr>\n",
       "      <th>bed_bath_table</th>\n",
       "      <td>16.82</td>\n",
       "    </tr>\n",
       "    <tr>\n",
       "      <th>health_beauty</th>\n",
       "      <td>7.91</td>\n",
       "    </tr>\n",
       "    <tr>\n",
       "      <th>furniture_decor</th>\n",
       "      <td>7.16</td>\n",
       "    </tr>\n",
       "    <tr>\n",
       "      <th>sports_leisure</th>\n",
       "      <td>6.71</td>\n",
       "    </tr>\n",
       "    <tr>\n",
       "      <th>computers_accessories</th>\n",
       "      <td>6.62</td>\n",
       "    </tr>\n",
       "    <tr>\n",
       "      <th>housewares</th>\n",
       "      <td>6.41</td>\n",
       "    </tr>\n",
       "  </tbody>\n",
       "</table>\n",
       "</div>"
      ],
      "text/plain": [
       "                       product_category_name_english\n",
       "bed_bath_table                                 16.82\n",
       "health_beauty                                   7.91\n",
       "furniture_decor                                 7.16\n",
       "sports_leisure                                  6.71\n",
       "computers_accessories                           6.62\n",
       "housewares                                      6.41"
      ]
     },
     "execution_count": 50,
     "metadata": {},
     "output_type": "execute_result"
    }
   ],
   "source": [
    "prod_percent = pd.DataFrame(data = df[\"product_category_name_english\"].value_counts()*100/len(df[\"product_category_name_english\"]))\n",
    "#pd.set_option('display.max_rows', 72)\n",
    "pd.reset_option('display.max_rows', 72)\n",
    "prod_percent.head(6).round(2)"
   ]
  },
  {
   "cell_type": "markdown",
   "id": "fd591187",
   "metadata": {},
   "source": [
    "There are about 20 differents types of products being the most ordered.\n",
    "\n",
    "And we can also see that the categories of product where the order were cancelled are also in the 20 differents types of products being the most ordered."
   ]
  },
  {
   "cell_type": "markdown",
   "id": "602a8657",
   "metadata": {},
   "source": [
    "The categories bed_bath_table / health_beauty / furniture_decor / sports_leisure / computers_accessories / housewares represent more than 50% of the products ordered."
   ]
  },
  {
   "cell_type": "markdown",
   "id": "1714f8de",
   "metadata": {},
   "source": [
    "***"
   ]
  },
  {
   "cell_type": "markdown",
   "id": "0d13a516",
   "metadata": {},
   "source": [
    "### Which are the clients"
   ]
  },
  {
   "cell_type": "code",
   "execution_count": 51,
   "id": "01f1311f",
   "metadata": {},
   "outputs": [
    {
     "data": {
      "text/plain": [
       "91266"
      ]
     },
     "execution_count": 51,
     "metadata": {},
     "output_type": "execute_result"
    }
   ],
   "source": [
    "df[\"customer_unique_id\"].nunique()"
   ]
  },
  {
   "cell_type": "markdown",
   "id": "dada8345",
   "metadata": {},
   "source": [
    "There are 91266 differents clients."
   ]
  },
  {
   "cell_type": "markdown",
   "id": "192ffd0b",
   "metadata": {},
   "source": [
    "I don't have informations more precises about the clients like age, sexe,...)."
   ]
  },
  {
   "cell_type": "markdown",
   "id": "a3f61a32",
   "metadata": {},
   "source": [
    "***"
   ]
  },
  {
   "cell_type": "markdown",
   "id": "604d2f26",
   "metadata": {},
   "source": [
    "### When clients order"
   ]
  },
  {
   "cell_type": "code",
   "execution_count": 52,
   "id": "91d9f6cd",
   "metadata": {},
   "outputs": [
    {
     "data": {
      "text/plain": [
       "2017-06-07 12:05:10    6422\n",
       "2017-03-09 23:39:26    5328\n",
       "2017-10-17 13:06:29    4970\n",
       "2017-12-01 18:23:51    4940\n",
       "2017-05-12 16:24:51    4693\n",
       "                       ... \n",
       "2018-08-01 16:57:20       1\n",
       "2017-02-26 17:39:49       1\n",
       "2016-10-05 15:17:57       1\n",
       "2017-06-27 10:46:52       1\n",
       "2017-03-26 21:29:35       1\n",
       "Name: order_purchase_timestamp, Length: 93764, dtype: int64"
      ]
     },
     "execution_count": 52,
     "metadata": {},
     "output_type": "execute_result"
    }
   ],
   "source": [
    "df[\"order_purchase_timestamp\"].value_counts()"
   ]
  },
  {
   "cell_type": "code",
   "execution_count": 53,
   "id": "c8a9cbae",
   "metadata": {},
   "outputs": [
    {
     "name": "stdout",
     "output_type": "stream",
     "text": [
      "datetime64[ns]\n"
     ]
    }
   ],
   "source": [
    "df[\"order_purchase_timestamp\"] = pd.to_datetime(df[\"order_purchase_timestamp\"])\n",
    "print(df[\"order_purchase_timestamp\"].dtypes)"
   ]
  },
  {
   "cell_type": "code",
   "execution_count": 54,
   "id": "3832c3e6",
   "metadata": {},
   "outputs": [
    {
     "name": "stdout",
     "output_type": "stream",
     "text": [
      "datetime64[ns]\n"
     ]
    }
   ],
   "source": [
    "df['Dates'] = pd.to_datetime(df[\"order_purchase_timestamp\"]).dt.date\n",
    "df[\"Dates\"] = pd.to_datetime(df[\"Dates\"])\n",
    "print(df[\"Dates\"].dtypes)"
   ]
  },
  {
   "cell_type": "code",
   "execution_count": 55,
   "id": "7178979d",
   "metadata": {},
   "outputs": [],
   "source": [
    "df['Time'] = pd.to_datetime(df[\"order_purchase_timestamp\"]).dt.time"
   ]
  },
  {
   "cell_type": "code",
   "execution_count": 56,
   "id": "f4ad6166",
   "metadata": {},
   "outputs": [],
   "source": [
    "df['Day']= pd.to_datetime(df['Dates']).dt.day\n",
    "df['Month']= pd.to_datetime(df['Dates']).dt.month\n",
    "df['Year']= pd.to_datetime(df['Dates']).dt.year"
   ]
  },
  {
   "cell_type": "code",
   "execution_count": 57,
   "id": "457f7561",
   "metadata": {},
   "outputs": [
    {
     "data": {
      "text/plain": [
       "<AxesSubplot:xlabel='Year', ylabel='count'>"
      ]
     },
     "execution_count": 57,
     "metadata": {},
     "output_type": "execute_result"
    },
    {
     "data": {
      "image/png": "[encoded data removed]",
      "text/plain": [
       "<Figure size 500x300 with 1 Axes>"
      ]
     },
     "metadata": {},
     "output_type": "display_data"
    }
   ],
   "source": [
    "plt.figure(figsize=(5,3))\n",
    "sns.countplot(x=df[\"Year\"])"
   ]
  },
  {
   "cell_type": "markdown",
   "id": "f7612ceb",
   "metadata": {},
   "source": [
    "The majority of the order were in 2017 and 2018."
   ]
  },
  {
   "cell_type": "code",
   "execution_count": 58,
   "id": "93757303",
   "metadata": {},
   "outputs": [
    {
     "data": {
      "text/plain": [
       "<AxesSubplot:xlabel='Month', ylabel='count'>"
      ]
     },
     "execution_count": 58,
     "metadata": {},
     "output_type": "execute_result"
    },
    {
     "data": {
      "image/png": "[encoded data removed]",
      "text/plain": [
       "<Figure size 500x300 with 1 Axes>"
      ]
     },
     "metadata": {},
     "output_type": "display_data"
    }
   ],
   "source": [
    "plt.figure(figsize=(5,3))\n",
    "sns.countplot(x=df[\"Month\"])"
   ]
  },
  {
   "cell_type": "code",
   "execution_count": 59,
   "id": "d5693df4",
   "metadata": {},
   "outputs": [
    {
     "data": {
      "text/plain": [
       "<AxesSubplot:xlabel='Day', ylabel='count'>"
      ]
     },
     "execution_count": 59,
     "metadata": {},
     "output_type": "execute_result"
    },
    {
     "data": {
      "image/png": "[encoded data removed]",
      "text/plain": [
       "<Figure size 800x300 with 1 Axes>"
      ]
     },
     "metadata": {},
     "output_type": "display_data"
    }
   ],
   "source": [
    "plt.figure(figsize=(8,3))\n",
    "sns.countplot(x=df[\"Day\"])"
   ]
  },
  {
   "cell_type": "code",
   "execution_count": 60,
   "id": "76e3d4be",
   "metadata": {},
   "outputs": [
    {
     "data": {
      "text/plain": [
       "DatetimeIndex(['2018-04-25', '2018-04-25', '2018-04-25', '2018-04-25',\n",
       "               '2018-04-25', '2018-04-25', '2018-04-25', '2018-04-25',\n",
       "               '2018-04-25', '2018-04-25',\n",
       "               ...\n",
       "               '2017-12-05', '2017-12-05', '2017-12-05', '2017-12-05',\n",
       "               '2017-12-05', '2017-12-05', '2017-12-05', '2017-12-05',\n",
       "               '2017-12-05', '2017-12-05'],\n",
       "              dtype='datetime64[ns]', name='Dates', length=12332907, freq=None)"
      ]
     },
     "execution_count": 60,
     "metadata": {},
     "output_type": "execute_result"
    }
   ],
   "source": [
    "dd = df.copy()\n",
    "\n",
    "dd = dd.set_index('Dates')\n",
    "dd.index"
   ]
  },
  {
   "cell_type": "code",
   "execution_count": null,
   "id": "b8759f50",
   "metadata": {},
   "outputs": [],
   "source": []
  },
  {
   "cell_type": "code",
   "execution_count": null,
   "id": "11409b77",
   "metadata": {},
   "outputs": [],
   "source": []
  },
  {
   "cell_type": "code",
   "execution_count": null,
   "id": "cfe624ce",
   "metadata": {},
   "outputs": [],
   "source": []
  },
  {
   "cell_type": "code",
   "execution_count": null,
   "id": "0fdf2de5",
   "metadata": {},
   "outputs": [],
   "source": []
  },
  {
   "cell_type": "code",
   "execution_count": null,
   "id": "7f465ad1",
   "metadata": {},
   "outputs": [],
   "source": []
  },
  {
   "cell_type": "markdown",
   "id": "4b0f63c4",
   "metadata": {},
   "source": [
    "### Where are located the customers"
   ]
  },
  {
   "cell_type": "raw",
   "id": "3eb233d5",
   "metadata": {},
   "source": [
    "df[['customer_city', 'customer_state', 'seller_city', 'seller_state', 'geolocation_lat', 'geolocation_lng',\n",
    "       'geolocation_city', 'geolocation_state']].head(3)"
   ]
  },
  {
   "cell_type": "raw",
   "id": "c22a7c99",
   "metadata": {},
   "source": [
    "df.columns"
   ]
  },
  {
   "cell_type": "raw",
   "id": "e8677935",
   "metadata": {},
   "source": [
    "from geopy.geocoders import Nominatim\n",
    "geolocator = Nominatim(user_agent='myapplication')\n",
    "location = geolocator.geocode([[\"teofilo otoni\", \"salto\"]])\n",
    "#print(location)\n",
    "print(location.latitude)\n",
    "print(location.longitude)"
   ]
  },
  {
   "cell_type": "raw",
   "id": "b6250f00",
   "metadata": {},
   "source": [
    "dfc = df.copy()\n",
    "\n",
    "print(dfc[\"customer_city\"].duplicated().sum())\n",
    "\n",
    "customer_city = pd.DataFrame(data = dfc[\"customer_city\"])\n",
    "\n",
    "customer_city.drop_duplicates(inplace = True)\n",
    "\n",
    "print(customer_city.columns)\n",
    "\n",
    "customer_city.head(3)"
   ]
  },
  {
   "cell_type": "raw",
   "id": "c398478b",
   "metadata": {},
   "source": [
    "#Importing the required modules\n",
    "import pandas as pd\n",
    "from geopy.geocoders import Nominatim\n",
    "from geopy.extra.rate_limiter import RateLimiter\n",
    "\n",
    "#Creating a dataframe with address of locations we want to reterive\n",
    "locat = ['Coorg, Karnataka' , 'Khajjiar, Himachal Pradesh',\\\n",
    "         'Chail, Himachal Pradesh' , 'Pithoragarh, Uttarakhand','Munnar, Kerala']\n",
    "dft = pd.DataFrame({'add': locat})\n",
    "\n",
    "#Creating an instance of Nominatim Class\n",
    "geolocator = Nominatim(user_agent=\"my_request\")\n",
    "\n",
    "#applying the rate limiter wrapper\n",
    "geocode = RateLimiter(geolocator.geocode, min_delay_seconds=1)\n",
    "\n",
    "#Applying the method to pandas DataFrame\n",
    "dft['location'] = dft['add'].apply(geocode)\n",
    "dft['Lat'] = dft['location'].apply(lambda x: x.latitude if x else None)\n",
    "dft['Lon'] = dft['location'].apply(lambda x: x.longitude if x else None)\n",
    "\n",
    "dft"
   ]
  },
  {
   "cell_type": "raw",
   "id": "b341c7c4",
   "metadata": {},
   "source": [
    "pd.reset_option('display.max_rows', 500)\n",
    "print(customer_city[\"customer_city\"].values)"
   ]
  },
  {
   "cell_type": "code",
   "execution_count": null,
   "id": "2111fbe9",
   "metadata": {},
   "outputs": [],
   "source": []
  },
  {
   "cell_type": "code",
   "execution_count": null,
   "id": "51228e58",
   "metadata": {},
   "outputs": [],
   "source": []
  },
  {
   "cell_type": "code",
   "execution_count": null,
   "id": "dbc399e4",
   "metadata": {},
   "outputs": [],
   "source": []
  },
  {
   "cell_type": "code",
   "execution_count": null,
   "id": "94eb98b1",
   "metadata": {},
   "outputs": [],
   "source": []
  }
 ],
 "metadata": {
  "kernelspec": {
   "display_name": "Python 3 (ipykernel)",
   "language": "python",
   "name": "python3"
  },
  "language_info": {
   "codemirror_mode": {
    "name": "ipython",
    "version": 3
   },
   "file_extension": ".py",
   "mimetype": "text/x-python",
   "name": "python",
   "nbconvert_exporter": "python",
   "pygments_lexer": "ipython3",
   "version": "3.9.15"
  },
  "latex_envs": {
   "LaTeX_envs_menu_present": true,
   "autoclose": false,
   "autocomplete": true,
   "bibliofile": "biblio.bib",
   "cite_by": "apalike",
   "current_citInitial": 1,
   "eqLabelWithNumbers": true,
   "eqNumInitial": 1,
   "hotkeys": {
    "equation": "Ctrl-E",
    "itemize": "Ctrl-I"
   },
   "labels_anchors": false,
   "latex_user_defs": false,
   "report_style_numbering": false,
   "user_envs_cfg": false
  }
 },
 "nbformat": 4,
 "nbformat_minor": 5
}
